{
 "cells": [
  {
   "cell_type": "markdown",
   "metadata": {},
   "source": [
    "## Daftar isi\n",
    "\n",
    "\n",
    "1.  Pengenalan K-Means Clustering\n",
    "2.  Inisiasi Clustering K-Means\n",
    "3.  Memilih nilai K\n",
    "4.  Metode elbow\n",
    "5.  Permasalahan\n",
    "6.  Penjelasan Dataset\n",
    "7.  Import libraries\n",
    "8.  Import dataset\n",
    "9.  Analisis dan eksplorasi data\n",
    "10. Deklarasikan vektor fitur dan target variabel\n",
    "11. Ubah variabel `client_category` menjadi bilangan bulat\n",
    "12. Fitur Penskalaan\n",
    "13. K-Means model dengan 4 clusters\n",
    "14. Studi parameter model K-Means\n",
    "15. Periksa kualitas klasifikasi lemah berdasarkan model\n",
    "16. Gunakan metode elbow untuk menemukan jumlah cluster yang optimal\n",
    "17. K-Means dengan cluster yang berbeda\n",
    "18. Hasil dan kesimpulan\n"
   ]
  },
  {
   "cell_type": "markdown",
   "metadata": {},
   "source": [
    "## 1. Pengenalan K-Means Clustering\n",
    "\n",
    "\n",
    "Algoritma machine learning dapat dibagi menjadi dua kategori utama - supervised (terawasi) dan unsupervised (tidak terawasi). Selain itu, ada juga kategori lain seperti semi-supervised learning dan reinforcement learning. Namun, sebagian besar algoritma diklasifikasikan sebagai supervised atau unsupervised learning. Perbedaan utama terjadi karena keberadaan variabel target. Pada unsupervised learning, tidak ada variabel target. Dataset hanya memiliki variabel input yang menggambarkan data tersebut. Inilah yang disebut dengan unsupervised learning.\n",
    "\n",
    "K-Means clustering adalah algoritma unsupervised learning yang paling populer. Algoritma ini digunakan ketika kita memiliki data tanpa label, yang artinya data tidak memiliki kategori atau kelompok yang sudah ditentukan. Algoritma ini mengikuti cara yang mudah atau sederhana untuk mengelompokkan dataset tertentu ke dalam sejumlah klaster yang telah ditentukan sebelumnya. Algoritma K-Means bekerja secara iteratif untuk menetapkan setiap titik data ke salah satu dari K kelompok berdasarkan kesamaan fitur yang diberikan. Titik-titik data dikelompokkan berdasarkan kesamaan fitur."
   ]
  },
  {
   "cell_type": "markdown",
   "metadata": {},
   "source": [
    "## 2. Inisiasi Clustering K-Means\n",
    "\n",
    "K-Means clustering digunakan untuk menemukan kelompok intrinsik dalam dataset tanpa label dan membuat inferensi dari kelompok-kelompok tersebut. Algoritma ini didasarkan pada clustering berbasis centroid.\n",
    "\n",
    "**Centroid** - Sebuah centroid adalah titik data yang berada di tengah-tengah sebuah klaster. Pada clustering berbasis centroid, klaster direpresentasikan oleh centroidnya. Algoritma ini bersifat iteratif di mana kesamaan antara titik data diukur berdasarkan seberapa dekat titik data tersebut dengan centroid klaster.\n",
    "\n",
    "K-Means clustering bekerja sebagai berikut:\n",
    "\n",
    "**1. Langkah penugasan data**\n",
    "\n",
    "Setiap centroid mendefinisikan satu dari K klaster. Pada langkah ini, setiap titik data ditugaskan ke centroid terdekat, yang diukur berdasarkan jarak Euclidean kuadrat. Jadi, jika \\( C \\) adalah kumpulan centroid, maka setiap titik data ditugaskan ke sebuah klaster berdasarkan jarak Euclidean minimum.\n",
    "\n",
    "**2. Langkah pembaruan centroid**\n",
    "\n",
    "Pada langkah ini, centroid diperbarui dengan menghitung rata-rata dari semua titik data yang ditugaskan ke klaster tersebut.\n",
    "\n",
    "Algoritma ini kemudian melakukan iterasi antara langkah 1 dan langkah 2 sampai kriteria berhenti terpenuhi. Kriteria berhenti dapat berupa tidak ada lagi perubahan titik data ke dalam klaster, total jarak terkecil, atau mencapai jumlah iterasi maksimum.\n",
    "\n",
    "Algoritma ini dijamin akan konvergen ke suatu hasil. Namun, hasilnya bisa saja menjadi optimum lokal, yang berarti melakukan lebih dari satu kali jalankan algoritma dengan centroid awal yang diacak dapat memberikan hasil yang lebih baik."
   ]
  },
  {
   "cell_type": "markdown",
   "metadata": {},
   "source": [
    "## 3. Memilih nilai K\n",
    "\n",
    "\n",
    "Algoritma K-Means bergantung pada pencarian jumlah cluster dan label data untuk nilai K yang telah ditentukan sebelumnya. Untuk menemukan jumlah cluster dalam data, kita perlu menjalankan algoritma clustering K-Means untuk nilai K dan yang berbeda. bandingkan hasilnya. Jadi, performa algoritma K-Means bergantung pada nilai K. Kita harus memilih nilai K optimal yang memberikan performa terbaik. Ada beberapa teknik berbeda yang tersedia untuk mencari nilai K optimal. Teknik yang paling umum adalah **elbow method** yang dijelaskan di bawah."
   ]
  },
  {
   "cell_type": "markdown",
   "metadata": {},
   "source": [
    "## 4. Metode elbow\n",
    "\n",
    "\n",
    "Metode elbow digunakan untuk menentukan jumlah cluster optimal pada clustering K-means. Metode siku memplot nilai fungsi biaya yang dihasilkan oleh nilai K yang berbeda.\n",
    "\n",
    "Jika K meningkat, distorsi rata-rata akan berkurang. Kemudian setiap cluster akan memiliki instance konstituen yang lebih sedikit, dan instance tersebut akan lebih dekat ke centroidnya masing-masing. Namun, peningkatan distorsi rata-rata akan menurun seiring dengan meningkatnya K. Nilai K dimana peningkatan distorsi paling menurun disebut siku, dimana kita harus berhenti membagi data menjadi kelompok-kelompok lebih lanjut."
   ]
  },
  {
   "cell_type": "markdown",
   "metadata": {},
   "source": [
    "## 5. Permasalahan\n",
    "\n",
    "\n",
    "Dalam proyek ini, saya mengimplementasikan clustering K-Means dengan Python dan Scikit-Learn. Seperti disebutkan sebelumnya, pengelompokan K-Means digunakan untuk menemukan kelompok intrinsik dalam kumpulan data yang tidak berlabel dan menarik kesimpulan dari kelompok tersebut. Saya menggunakan `Dataset Toko Cabang di Mitra Usaha Koperasi (MUK)` untuk proyek ini."
   ]
  },
  {
   "cell_type": "markdown",
   "metadata": {},
   "source": [
    "## 6. Penjelasan Dataset\n",
    "\n",
    "\n",
    "Dalam proyek ini, Saya menggunakan `Dataset Toko Cabang di Mitra Usaha Koperasi (MUK)` Dataset, data tersebut didapatkan dari tim pengembang aplikasi kasir online yang berisikan informasi seputar toko, jenis toko, dan total transaksi."
   ]
  },
  {
   "cell_type": "markdown",
   "metadata": {},
   "source": [
    "## 7. Import libraries"
   ]
  },
  {
   "cell_type": "code",
   "execution_count": 5273,
   "metadata": {},
   "outputs": [],
   "source": [
    "import numpy as np\n",
    "import pandas as pd\n",
    "import matplotlib.pyplot as plt\n",
    "import seaborn as sns\n",
    "import plotly as py\n",
    "import plotly.graph_objs as go\n",
    "%matplotlib inline"
   ]
  },
  {
   "cell_type": "markdown",
   "metadata": {},
   "source": [
    "### Ignore warnings\n"
   ]
  },
  {
   "cell_type": "code",
   "execution_count": 5274,
   "metadata": {},
   "outputs": [],
   "source": [
    "import warnings\n",
    "\n",
    "warnings.filterwarnings('ignore')"
   ]
  },
  {
   "cell_type": "markdown",
   "metadata": {},
   "source": [
    "## 8. Import dataset\n"
   ]
  },
  {
   "cell_type": "code",
   "execution_count": 5275,
   "metadata": {},
   "outputs": [],
   "source": [
    "data = '/Users/agungputra/Library/Mobile Documents/com~apple~CloudDocs/Documents/Kuliah/UBL/Tesis/dataset/view_all_stores.csv'\n",
    "\n",
    "df = pd.read_csv(data, delimiter=';')\n"
   ]
  },
  {
   "cell_type": "markdown",
   "metadata": {},
   "source": [
    "## 9. Analisis dan eksplorasi data"
   ]
  },
  {
   "cell_type": "markdown",
   "metadata": {},
   "source": [
    "### Periksa bentuk kumpulan data"
   ]
  },
  {
   "cell_type": "code",
   "execution_count": 5276,
   "metadata": {},
   "outputs": [
    {
     "data": {
      "text/plain": [
       "(385, 14)"
      ]
     },
     "execution_count": 5276,
     "metadata": {},
     "output_type": "execute_result"
    }
   ],
   "source": [
    "df.shape"
   ]
  },
  {
   "cell_type": "markdown",
   "metadata": {},
   "source": [
    "Kita dapat melihat ada 385 data dan 14 atribut dalam dataset. Selanjutnya, kita harus melihat kumpulan data untuk mendapatkan lebih banyak wawasan tentangnya."
   ]
  },
  {
   "cell_type": "markdown",
   "metadata": {},
   "source": [
    "### Melihat dataset"
   ]
  },
  {
   "cell_type": "code",
   "execution_count": 5277,
   "metadata": {},
   "outputs": [
    {
     "data": {
      "text/html": [
       "<div>\n",
       "<style scoped>\n",
       "    .dataframe tbody tr th:only-of-type {\n",
       "        vertical-align: middle;\n",
       "    }\n",
       "\n",
       "    .dataframe tbody tr th {\n",
       "        vertical-align: top;\n",
       "    }\n",
       "\n",
       "    .dataframe thead th {\n",
       "        text-align: right;\n",
       "    }\n",
       "</style>\n",
       "<table border=\"1\" class=\"dataframe\">\n",
       "  <thead>\n",
       "    <tr style=\"text-align: right;\">\n",
       "      <th></th>\n",
       "      <th>id</th>\n",
       "      <th>store_name</th>\n",
       "      <th>first_name</th>\n",
       "      <th>last_name</th>\n",
       "      <th>reg_date</th>\n",
       "      <th>address</th>\n",
       "      <th>ref_grocery_store_code</th>\n",
       "      <th>store_address</th>\n",
       "      <th>days_since_registration</th>\n",
       "      <th>total_count_transaction</th>\n",
       "      <th>total_amount_transaction</th>\n",
       "      <th>client_category</th>\n",
       "      <th>total_varian_product</th>\n",
       "      <th>total_varian_product_transaction</th>\n",
       "    </tr>\n",
       "  </thead>\n",
       "  <tbody>\n",
       "    <tr>\n",
       "      <th>0</th>\n",
       "      <td>14364</td>\n",
       "      <td>TMUK 00000 TESTING</td>\n",
       "      <td>TMUK</td>\n",
       "      <td>Testing</td>\n",
       "      <td>2019-08-22 18:03:39.050719</td>\n",
       "      <td>NaN</td>\n",
       "      <td>6001</td>\n",
       "      <td>tmuk00000</td>\n",
       "      <td>1499</td>\n",
       "      <td>1070</td>\n",
       "      <td>85625901</td>\n",
       "      <td>Warung</td>\n",
       "      <td>275</td>\n",
       "      <td>1070</td>\n",
       "    </tr>\n",
       "    <tr>\n",
       "      <th>1</th>\n",
       "      <td>14363</td>\n",
       "      <td>Kopkar PUJASERA Pasar Rebo</td>\n",
       "      <td>Kopkar PUJASERA</td>\n",
       "      <td>Pasar Rebo</td>\n",
       "      <td>2019-08-22 17:58:45.991926</td>\n",
       "      <td>NaN</td>\n",
       "      <td>6001</td>\n",
       "      <td>tmuk00001</td>\n",
       "      <td>1499</td>\n",
       "      <td>417587</td>\n",
       "      <td>5945445071</td>\n",
       "      <td>Minimarket</td>\n",
       "      <td>1160</td>\n",
       "      <td>417587</td>\n",
       "    </tr>\n",
       "    <tr>\n",
       "      <th>2</th>\n",
       "      <td>14662</td>\n",
       "      <td>Grosir Max</td>\n",
       "      <td>Grosir</td>\n",
       "      <td>Max</td>\n",
       "      <td>2019-09-13 09:32:13.873978</td>\n",
       "      <td>NaN</td>\n",
       "      <td>6001</td>\n",
       "      <td>tmuk00002</td>\n",
       "      <td>1477</td>\n",
       "      <td>15773</td>\n",
       "      <td>1114582043</td>\n",
       "      <td>Minimarket</td>\n",
       "      <td>1086</td>\n",
       "      <td>15773</td>\n",
       "    </tr>\n",
       "    <tr>\n",
       "      <th>3</th>\n",
       "      <td>14732</td>\n",
       "      <td>Maha Mart</td>\n",
       "      <td>Maha</td>\n",
       "      <td>Mart</td>\n",
       "      <td>2019-09-18 19:02:30.874849</td>\n",
       "      <td>NaN</td>\n",
       "      <td>6008</td>\n",
       "      <td>tmuk00003</td>\n",
       "      <td>1472</td>\n",
       "      <td>57608</td>\n",
       "      <td>10788938918</td>\n",
       "      <td>Minimarket</td>\n",
       "      <td>3456</td>\n",
       "      <td>57608</td>\n",
       "    </tr>\n",
       "    <tr>\n",
       "      <th>4</th>\n",
       "      <td>14755</td>\n",
       "      <td>Manindo Mart</td>\n",
       "      <td>Manindo</td>\n",
       "      <td>Mart</td>\n",
       "      <td>2019-09-20 10:39:20.873399</td>\n",
       "      <td>NaN</td>\n",
       "      <td>6001</td>\n",
       "      <td>tmuk00004</td>\n",
       "      <td>1470</td>\n",
       "      <td>460382</td>\n",
       "      <td>24291902672</td>\n",
       "      <td>Minimarket</td>\n",
       "      <td>4793</td>\n",
       "      <td>460382</td>\n",
       "    </tr>\n",
       "  </tbody>\n",
       "</table>\n",
       "</div>"
      ],
      "text/plain": [
       "      id                  store_name       first_name   last_name  \\\n",
       "0  14364          TMUK 00000 TESTING             TMUK     Testing   \n",
       "1  14363  Kopkar PUJASERA Pasar Rebo  Kopkar PUJASERA  Pasar Rebo   \n",
       "2  14662                  Grosir Max           Grosir         Max   \n",
       "3  14732                   Maha Mart             Maha        Mart   \n",
       "4  14755                Manindo Mart         Manindo         Mart   \n",
       "\n",
       "                     reg_date  address  ref_grocery_store_code store_address  \\\n",
       "0  2019-08-22 18:03:39.050719      NaN                    6001     tmuk00000   \n",
       "1  2019-08-22 17:58:45.991926      NaN                    6001     tmuk00001   \n",
       "2  2019-09-13 09:32:13.873978      NaN                    6001     tmuk00002   \n",
       "3  2019-09-18 19:02:30.874849      NaN                    6008     tmuk00003   \n",
       "4  2019-09-20 10:39:20.873399      NaN                    6001     tmuk00004   \n",
       "\n",
       "   days_since_registration  total_count_transaction  total_amount_transaction  \\\n",
       "0                     1499                     1070                  85625901   \n",
       "1                     1499                   417587                5945445071   \n",
       "2                     1477                    15773                1114582043   \n",
       "3                     1472                    57608               10788938918   \n",
       "4                     1470                   460382               24291902672   \n",
       "\n",
       "  client_category  total_varian_product  total_varian_product_transaction  \n",
       "0          Warung                   275                              1070  \n",
       "1      Minimarket                  1160                            417587  \n",
       "2      Minimarket                  1086                             15773  \n",
       "3      Minimarket                  3456                             57608  \n",
       "4      Minimarket                  4793                            460382  "
      ]
     },
     "execution_count": 5277,
     "metadata": {},
     "output_type": "execute_result"
    }
   ],
   "source": [
    "df.head()"
   ]
  },
  {
   "cell_type": "markdown",
   "metadata": {},
   "source": [
    "### Melihat rangkuman data"
   ]
  },
  {
   "cell_type": "code",
   "execution_count": 5278,
   "metadata": {},
   "outputs": [
    {
     "name": "stdout",
     "output_type": "stream",
     "text": [
      "<class 'pandas.core.frame.DataFrame'>\n",
      "RangeIndex: 385 entries, 0 to 384\n",
      "Data columns (total 14 columns):\n",
      " #   Column                            Non-Null Count  Dtype  \n",
      "---  ------                            --------------  -----  \n",
      " 0   id                                385 non-null    int64  \n",
      " 1   store_name                        385 non-null    object \n",
      " 2   first_name                        385 non-null    object \n",
      " 3   last_name                         320 non-null    object \n",
      " 4   reg_date                          385 non-null    object \n",
      " 5   address                           0 non-null      float64\n",
      " 6   ref_grocery_store_code            385 non-null    int64  \n",
      " 7   store_address                     385 non-null    object \n",
      " 8   days_since_registration           385 non-null    int64  \n",
      " 9   total_count_transaction           385 non-null    int64  \n",
      " 10  total_amount_transaction          385 non-null    int64  \n",
      " 11  client_category                   385 non-null    object \n",
      " 12  total_varian_product              385 non-null    int64  \n",
      " 13  total_varian_product_transaction  385 non-null    int64  \n",
      "dtypes: float64(1), int64(7), object(6)\n",
      "memory usage: 42.2+ KB\n"
     ]
    }
   ],
   "source": [
    "df.info()"
   ]
  },
  {
   "cell_type": "markdown",
   "metadata": {},
   "source": [
    "### Periksa nilai yang kosong dalam kumpulan data"
   ]
  },
  {
   "cell_type": "code",
   "execution_count": 5279,
   "metadata": {},
   "outputs": [
    {
     "data": {
      "text/plain": [
       "id                                    0\n",
       "store_name                            0\n",
       "first_name                            0\n",
       "last_name                            65\n",
       "reg_date                              0\n",
       "address                             385\n",
       "ref_grocery_store_code                0\n",
       "store_address                         0\n",
       "days_since_registration               0\n",
       "total_count_transaction               0\n",
       "total_amount_transaction              0\n",
       "client_category                       0\n",
       "total_varian_product                  0\n",
       "total_varian_product_transaction      0\n",
       "dtype: int64"
      ]
     },
     "execution_count": 5279,
     "metadata": {},
     "output_type": "execute_result"
    }
   ],
   "source": [
    "df.isnull().sum()"
   ]
  },
  {
   "cell_type": "markdown",
   "metadata": {},
   "source": [
    "Kita dapat melihat ada 1 kolom yang tidak terpakai di dataset. Kita harus membuangnya sebelum melanjutkan lebih jauh."
   ]
  },
  {
   "cell_type": "markdown",
   "metadata": {},
   "source": [
    "### Hapus kolom yang tidak digunakan"
   ]
  },
  {
   "cell_type": "code",
   "execution_count": 5280,
   "metadata": {},
   "outputs": [],
   "source": [
    "df.drop(['address'], axis=1, inplace=True)"
   ]
  },
  {
   "cell_type": "markdown",
   "metadata": {},
   "source": [
    "### Melihat kembali rangkuman data"
   ]
  },
  {
   "cell_type": "code",
   "execution_count": 5281,
   "metadata": {},
   "outputs": [
    {
     "name": "stdout",
     "output_type": "stream",
     "text": [
      "<class 'pandas.core.frame.DataFrame'>\n",
      "RangeIndex: 385 entries, 0 to 384\n",
      "Data columns (total 13 columns):\n",
      " #   Column                            Non-Null Count  Dtype \n",
      "---  ------                            --------------  ----- \n",
      " 0   id                                385 non-null    int64 \n",
      " 1   store_name                        385 non-null    object\n",
      " 2   first_name                        385 non-null    object\n",
      " 3   last_name                         320 non-null    object\n",
      " 4   reg_date                          385 non-null    object\n",
      " 5   ref_grocery_store_code            385 non-null    int64 \n",
      " 6   store_address                     385 non-null    object\n",
      " 7   days_since_registration           385 non-null    int64 \n",
      " 8   total_count_transaction           385 non-null    int64 \n",
      " 9   total_amount_transaction          385 non-null    int64 \n",
      " 10  client_category                   385 non-null    object\n",
      " 11  total_varian_product              385 non-null    int64 \n",
      " 12  total_varian_product_transaction  385 non-null    int64 \n",
      "dtypes: int64(7), object(6)\n",
      "memory usage: 39.2+ KB\n"
     ]
    }
   ],
   "source": [
    "df.info()"
   ]
  },
  {
   "cell_type": "markdown",
   "metadata": {},
   "source": [
    "Sekarang, kita bisa melihat yang tidak terpakai\n",
    "\n",
    "Terlihat ada 6 variabel karakter (tipe data = objek) dan sisa 7 variabel numerik (tipe data = int64)."
   ]
  },
  {
   "cell_type": "markdown",
   "metadata": {},
   "source": [
    "### Melihat ringkasan statistik variabel numerik"
   ]
  },
  {
   "cell_type": "code",
   "execution_count": 5328,
   "metadata": {},
   "outputs": [
    {
     "data": {
      "text/html": [
       "<div>\n",
       "<style scoped>\n",
       "    .dataframe tbody tr th:only-of-type {\n",
       "        vertical-align: middle;\n",
       "    }\n",
       "\n",
       "    .dataframe tbody tr th {\n",
       "        vertical-align: top;\n",
       "    }\n",
       "\n",
       "    .dataframe thead th {\n",
       "        text-align: right;\n",
       "    }\n",
       "</style>\n",
       "<table border=\"1\" class=\"dataframe\">\n",
       "  <thead>\n",
       "    <tr style=\"text-align: right;\">\n",
       "      <th></th>\n",
       "      <th>days_since_registration</th>\n",
       "      <th>total_count_transaction</th>\n",
       "      <th>total_amount_transaction</th>\n",
       "      <th>client_category</th>\n",
       "      <th>total_varian_product</th>\n",
       "      <th>total_varian_product_transaction</th>\n",
       "      <th>cluster</th>\n",
       "    </tr>\n",
       "  </thead>\n",
       "  <tbody>\n",
       "    <tr>\n",
       "      <th>count</th>\n",
       "      <td>385.000000</td>\n",
       "      <td>385.000000</td>\n",
       "      <td>3.850000e+02</td>\n",
       "      <td>385.000000</td>\n",
       "      <td>385.000000</td>\n",
       "      <td>385.00000</td>\n",
       "      <td>385.000000</td>\n",
       "    </tr>\n",
       "    <tr>\n",
       "      <th>mean</th>\n",
       "      <td>1011.748052</td>\n",
       "      <td>60053.836364</td>\n",
       "      <td>6.203134e+12</td>\n",
       "      <td>0.353247</td>\n",
       "      <td>1606.285714</td>\n",
       "      <td>60054.47013</td>\n",
       "      <td>0.353247</td>\n",
       "    </tr>\n",
       "    <tr>\n",
       "      <th>std</th>\n",
       "      <td>416.831071</td>\n",
       "      <td>105457.095451</td>\n",
       "      <td>1.206713e+14</td>\n",
       "      <td>0.478601</td>\n",
       "      <td>1836.916607</td>\n",
       "      <td>105457.86939</td>\n",
       "      <td>0.478601</td>\n",
       "    </tr>\n",
       "    <tr>\n",
       "      <th>min</th>\n",
       "      <td>0.000000</td>\n",
       "      <td>0.000000</td>\n",
       "      <td>0.000000e+00</td>\n",
       "      <td>0.000000</td>\n",
       "      <td>0.000000</td>\n",
       "      <td>0.00000</td>\n",
       "      <td>0.000000</td>\n",
       "    </tr>\n",
       "    <tr>\n",
       "      <th>25%</th>\n",
       "      <td>687.000000</td>\n",
       "      <td>528.000000</td>\n",
       "      <td>2.656554e+07</td>\n",
       "      <td>0.000000</td>\n",
       "      <td>175.000000</td>\n",
       "      <td>528.00000</td>\n",
       "      <td>0.000000</td>\n",
       "    </tr>\n",
       "    <tr>\n",
       "      <th>50%</th>\n",
       "      <td>1169.000000</td>\n",
       "      <td>19562.000000</td>\n",
       "      <td>1.103360e+09</td>\n",
       "      <td>0.000000</td>\n",
       "      <td>1033.000000</td>\n",
       "      <td>19562.00000</td>\n",
       "      <td>0.000000</td>\n",
       "    </tr>\n",
       "    <tr>\n",
       "      <th>75%</th>\n",
       "      <td>1351.000000</td>\n",
       "      <td>66414.000000</td>\n",
       "      <td>3.275724e+09</td>\n",
       "      <td>1.000000</td>\n",
       "      <td>2229.000000</td>\n",
       "      <td>66414.00000</td>\n",
       "      <td>1.000000</td>\n",
       "    </tr>\n",
       "    <tr>\n",
       "      <th>max</th>\n",
       "      <td>1499.000000</td>\n",
       "      <td>952889.000000</td>\n",
       "      <td>2.367719e+15</td>\n",
       "      <td>1.000000</td>\n",
       "      <td>11119.000000</td>\n",
       "      <td>952900.00000</td>\n",
       "      <td>1.000000</td>\n",
       "    </tr>\n",
       "  </tbody>\n",
       "</table>\n",
       "</div>"
      ],
      "text/plain": [
       "       days_since_registration  total_count_transaction  \\\n",
       "count               385.000000               385.000000   \n",
       "mean               1011.748052             60053.836364   \n",
       "std                 416.831071            105457.095451   \n",
       "min                   0.000000                 0.000000   \n",
       "25%                 687.000000               528.000000   \n",
       "50%                1169.000000             19562.000000   \n",
       "75%                1351.000000             66414.000000   \n",
       "max                1499.000000            952889.000000   \n",
       "\n",
       "       total_amount_transaction  client_category  total_varian_product  \\\n",
       "count              3.850000e+02       385.000000            385.000000   \n",
       "mean               6.203134e+12         0.353247           1606.285714   \n",
       "std                1.206713e+14         0.478601           1836.916607   \n",
       "min                0.000000e+00         0.000000              0.000000   \n",
       "25%                2.656554e+07         0.000000            175.000000   \n",
       "50%                1.103360e+09         0.000000           1033.000000   \n",
       "75%                3.275724e+09         1.000000           2229.000000   \n",
       "max                2.367719e+15         1.000000          11119.000000   \n",
       "\n",
       "       total_varian_product_transaction     cluster  \n",
       "count                         385.00000  385.000000  \n",
       "mean                        60054.47013    0.353247  \n",
       "std                        105457.86939    0.478601  \n",
       "min                             0.00000    0.000000  \n",
       "25%                           528.00000    0.000000  \n",
       "50%                         19562.00000    0.000000  \n",
       "75%                         66414.00000    1.000000  \n",
       "max                        952900.00000    1.000000  "
      ]
     },
     "execution_count": 5328,
     "metadata": {},
     "output_type": "execute_result"
    }
   ],
   "source": [
    "df.describe()"
   ]
  },
  {
   "cell_type": "markdown",
   "metadata": {},
   "source": [
    "Ada 6 variabel kategori dalam dataset. Saya akan menjelajahinya satu per satu."
   ]
  },
  {
   "cell_type": "markdown",
   "metadata": {},
   "source": [
    "### Explore variable `id`"
   ]
  },
  {
   "cell_type": "code",
   "execution_count": 5283,
   "metadata": {},
   "outputs": [
    {
     "data": {
      "text/plain": [
       "array([14364, 14363, 14662, 14732, 14755, 14796, 14797, 14895, 14896,\n",
       "       14897, 14898, 14899, 14930, 14931, 14932, 14935, 14936, 14937,\n",
       "       15021, 15022, 15023, 15025, 15026, 15027, 15031, 15097, 15098,\n",
       "       15099, 15100, 15139, 15140, 15141, 15142, 15145, 15146, 15147,\n",
       "       15148, 15196, 15259, 15260, 15261, 15262, 15387, 15388, 15389,\n",
       "       15390, 15401, 15402, 15423, 15424, 15488, 15489, 15490, 15491,\n",
       "       15492, 15529, 15531, 15532, 15533, 15534, 15535, 15536, 15594,\n",
       "       15595, 15625, 15628, 15889, 15890, 16013, 16014, 16043, 16044,\n",
       "       16083, 16084, 16085, 16086, 16088, 16171, 16208, 16209, 16210,\n",
       "       16211, 16220, 16224, 16225, 16226, 16227, 16228, 16247, 16277,\n",
       "       16278, 16279, 16280, 16282, 16328, 16329, 16330, 16362, 16364,\n",
       "       16365, 16366, 16377, 16378, 16379, 16380, 16393, 16434, 16531,\n",
       "       16532, 16533, 16537, 16538, 16539, 16540, 16573, 16605, 16606,\n",
       "       16607, 16608, 16615, 16616, 16617, 16618, 16619, 16620, 16648,\n",
       "       16649, 16712, 16713, 16722, 16736, 16759, 16760, 16761, 16770,\n",
       "       16771, 16806, 16807, 16872, 16880, 16881, 16895, 16946, 16948,\n",
       "       16949, 16950, 16951, 16960, 16973, 17000, 17001, 17004, 17021,\n",
       "       17079, 17080, 17109, 17110, 17144, 17145, 17175, 17216, 17217,\n",
       "       17289, 17290, 17310, 17311, 17313, 17319, 17378, 17396, 17430,\n",
       "       17433, 17434, 17483, 17484, 17589, 17737, 17748, 17749, 17750,\n",
       "       17751, 17754, 17755, 17850, 17851, 17882, 17902, 17937, 17943,\n",
       "       17961, 17962, 17963, 17976, 17980, 18032, 18033, 18034, 18035,\n",
       "       18036, 18047, 18094, 18150, 18238, 18254, 18283, 18338, 18339,\n",
       "       18393, 18427, 18483, 18527, 18539, 18540, 18541, 18620, 18621,\n",
       "       18686, 18711, 18736, 18760, 18804, 18805, 18853, 18854, 18933,\n",
       "       18934, 18937, 19016, 19035, 19036, 19073, 19085, 19153, 19154,\n",
       "       19165, 19166, 19167, 19168, 19202, 19212, 19213, 19236, 19642,\n",
       "       19676, 19678, 19679, 19724, 19754, 19755, 19769, 19783, 19800,\n",
       "       19801, 19818, 19843, 19862, 19909, 19910, 19917, 19996, 19999,\n",
       "       20013, 20022, 20027, 20028, 20078, 20079, 20081, 20082, 20083,\n",
       "       20097, 20101, 20155, 20156, 20280, 20281, 20373, 20374, 20383,\n",
       "       20386, 20399, 20443, 20493, 20612, 20619, 20670, 20692, 20696,\n",
       "       20707, 20749, 20750, 20755, 20757, 20793, 20804, 20805, 20806,\n",
       "       20812, 20813, 20821, 20847, 20848, 20861, 20896, 20937, 20961,\n",
       "       20962, 20964, 20965, 20970, 20971, 20972, 20973, 20976, 20977,\n",
       "       21001, 21016, 21017, 21028, 21030, 21051, 21052, 21066, 21141,\n",
       "       21161, 21172, 21253, 21274, 21323, 21386, 21420, 21421, 21444,\n",
       "       21445, 21449, 21454, 21500, 21501, 21508, 21532, 21552, 21560,\n",
       "       21654, 21656, 21704, 21707, 21712, 21755, 21756, 21799, 21800,\n",
       "       21806, 21841, 21863, 21872, 21880, 21902, 21907, 21917, 21918,\n",
       "       21941, 21942, 21954, 21963, 22012, 22014, 22024, 22058, 22168,\n",
       "       22169, 22235, 22299, 22300, 22340, 22391, 22398, 22404, 22405,\n",
       "       22415, 22437, 22505, 22555, 22560, 22562, 20777])"
      ]
     },
     "execution_count": 5283,
     "metadata": {},
     "output_type": "execute_result"
    }
   ],
   "source": [
    "# Melihat nilai pada variabel\n",
    "\n",
    "df['id'].unique()"
   ]
  },
  {
   "cell_type": "code",
   "execution_count": 5284,
   "metadata": {},
   "outputs": [
    {
     "data": {
      "text/plain": [
       "385"
      ]
     },
     "execution_count": 5284,
     "metadata": {},
     "output_type": "execute_result"
    }
   ],
   "source": [
    "# Melihat berapa banyak jenis variabel yang ada\n",
    "\n",
    "len(df['id'].unique())"
   ]
  },
  {
   "cell_type": "markdown",
   "metadata": {},
   "source": [
    "Kita dapat melihat ada 385 label unik di variabel `id`. Jumlah total instance dalam kumpulan data adalah 385. Jadi, ini kira-kira merupakan pengidentifikasi unik untuk setiap instance. Jadi ini bukan variabel yang bisa kita gunakan. Oleh karena itu, saya akan menghilangkannya."
   ]
  },
  {
   "cell_type": "markdown",
   "metadata": {},
   "source": [
    "### Explore variable `store_name`"
   ]
  },
  {
   "cell_type": "code",
   "execution_count": 5285,
   "metadata": {},
   "outputs": [
    {
     "data": {
      "text/plain": [
       "array(['TMUK 00000 TESTING', 'Kopkar PUJASERA Pasar Rebo', 'Grosir Max',\n",
       "       'Maha Mart', 'Manindo Mart', 'Taekwang', 'Galaxy Mart',\n",
       "       'TINS MART', 'MINI MART', 'NAZWA MART', 'PPA MART', 'Toko Sri',\n",
       "       'Vita Mart', 'INDAH MART', 'KAMIL MART', 'ROSANI MART',\n",
       "       'BUMDES CIKARANG', 'ALEXANDERIA STORE', 'Tomod Mitra', 'Dora Mart',\n",
       "       'African Shop', 'Javi Mart', 'Fidi Mart', 'NSA Mart',\n",
       "       'Hansay Mart', 'DM MART', 'HEMART', 'JERNIH', 'Bina Mart',\n",
       "       'KOPERASI SPTP PANTOS LOGISTICS', 'MEMBER MART', 'DOC MART',\n",
       "       '7 Mart ID', 'SANTRI MART', 'Zaza Mart', 'Ashoka Shop',\n",
       "       'IHBS MART', 'ALIT MART', 'KOFAYA', 'TOKO MANDIRI',\n",
       "       'TOKO BINTANG JAYA', 'ANISSA MART', 'GADDE\" Mart', 'YATAMA MART',\n",
       "       \"ANDI'S MART COFFEE\", 'KOPERASI PT YUTAKA MANUFACTURING',\n",
       "       'KOP PEGAWAI RSUD TARAKAN', 'AL WAFI MART', 'CAHAYA MART',\n",
       "       'BABON MART', 'KOTITAN', 'KOPKAR DIHI', 'JAYA MART SRG',\n",
       "       'NUFI MART', 'MUSLIM MART', 'Usako', 'ZAHRA MART', 'BEKASI',\n",
       "       'EKA MART', 'MJL Mart ', 'Berkah Ar Rahman ', 'JK Swalayan',\n",
       "       'FRESH KITCHEN', 'TOMOD KOPKAR TASPEN', 'Ali Mart',\n",
       "       'C84 Mini Mart', 'Hasanah Mart', 'I - MART', 'LAATANSA MART',\n",
       "       'WARUNG ANNAJAH', 'BN Mart', 'TMUK TOKO SUZAN ', 'WILMART ',\n",
       "       'TMUK QL MART', 'TOKITA MART', 'PUJA KUSUMA MART',\n",
       "       'Lucky Prambanan Mart', 'Wiguna Mart', 'EL DZAKY SHOP',\n",
       "       'KOPKAR MITRA USAHA', 'KELLY MINI MART', 'Fajar Mart',\n",
       "       'BUDI SETIA MART', 'TOMOD AMANAH', 'WAROENG BMT', 'WILMART 2',\n",
       "       'MIRA MART', 'MAKMUR MART', 'Mini Mart 31', 'MAXI MART', 'BI MART',\n",
       "       'TOMOD KPRI TIRTAMULYA', 'Toko Murah 212 Mart', 'Mandiri Mart',\n",
       "       'TOMOD 2020 MART', 'TOKO RARA', 'Sen Mart',\n",
       "       'KOPERASI MITRA SEJAHTERA', 'NCI MART', 'WARUNG SYARIAH KZA ',\n",
       "       'NETTA SHOP', 'Muslim Swalayan', 'Rumah Belanja D&R', 'ARKAI MART',\n",
       "       'ANRI MART', 'Gets Minimart', 'MITRA BELANJA', 'Ableh Mart',\n",
       "       'Bumdes karya mandiri', 'TIRTA MART', 'MJM  MART ', 'RINDU MART',\n",
       "       'Koperasi 212 Mart', 'Kop. Ponpes Darurrosyid',\n",
       "       'Kopkar Manunggal Perkasa', 'SELARAS MART', 'Koperasi P3GT',\n",
       "       'UMI MART', 'BUANA MART', 'U MART KEMBANGAN', 'U MART',\n",
       "       'TOKITA KOPERASI FTKE', 'JONUR 06 MART', \"LUCKY'S MART\",\n",
       "       'ARSY MART', '212 MART RAWA KALONG', 'SIS Mart', 'Enhai Mart',\n",
       "       'SIS Mart 2', 'TOKO KENANGA', 'Rafi Mart', 'KOPERASI STMKG',\n",
       "       '212 MART RAWA BELONG', 'TLOGOWATU MART',\n",
       "       'KOPERASI SYARIAH AMANAH MUSLIM INDONESIA', 'Mulia Mart',\n",
       "       'TUNAS JAYA MART', 'Umar & Ali Mart', 'TOMO MINIMART', '212 MART',\n",
       "       'KPU MART MART212', 'TOKO JAYAWAN', 'RS GRAHA JUANDA BEKASI',\n",
       "       'NAKASYA MART', 'DF MART', 'KITA MART', 'HANDY Mart',\n",
       "       'JAVI MART 2', 'Bumdes Motekar Kertamulya', 'BERES MART',\n",
       "       'AKHSAN MART ', 'SARUNI JAYA SWALAYAN', 'TOKO HELMI',\n",
       "       '212 Mart Jatirahayu', 'KOPKAR YUMMY', 'TION MART', 'CITOH MART',\n",
       "       'ANISA MART', 'TOMOD UNIERAMART', 'Arjun Mart', 'KOPERASI WASKITA',\n",
       "       'Toko AL FAIZ', 'RIZKI MART', 'TIGA AMANAH MINI MART', 'BIE MART',\n",
       "       'ZAM ZAM MART', 'CAHAYA513 MINI MART', 'Erwin Mart', 'TOKO MIRING',\n",
       "       'Tomod Toko M Mart', \"KING'S MART\", '212 MART BOJONG MENTENG',\n",
       "       'CHS MART', 'Toko ATHY', 'FORTRESS MART', 'BM Mart',\n",
       "       'KING MART PANJI TILAR', '212 MART BOGOR ASRI ', 'ADM MART',\n",
       "       'BELVA MANDIRI', 'IKHWAN MART', 'MUSLIM MART 2', 'TOKO GAPAMAL 2',\n",
       "       'BETHESDA MART', 'KNE MART',\n",
       "       'LABORATORIUM WIRAUSAHA PONPES IBNU ASH SHOLAH', 'TOKO IGNAY',\n",
       "       'TOKO SANTRI  ARAFAH', 'PERUMDA MART', 'ARUS MART IJO LEMOR',\n",
       "       'ARUS MART RAMAH LENEK', 'ARUS MART SUKAREMA LENEK', 'ADIA MART',\n",
       "       'BIMART', '99 MINI MARKET', 'MINIMART MEGA KUNINGAN',\n",
       "       'SODAQO PERMATA PURI', 'TMUK COZY.CO', 'eNHa Mart', 'MIZARI MART',\n",
       "       'AKA MART', 'PMI MART ',\n",
       "       'PT SWANDARU JAYA MANDIRI (KOPERASI MABES POLRI LOGISTIK)',\n",
       "       'PRIMA MART', 'Prima Mart', 'TMUK 01 ISTANA MART',\n",
       "       'ARUS MART PONPES NURUL MUHSININ', 'ROYAL MART', 'PRIMA EXPRESS',\n",
       "       'INTI MART', 'WR KOPKAR MAKARYA', 'SUNARMART', 'Topaz Mart',\n",
       "       'Alexa Mart', 'TOMOD KOPERASI PPA', 'KIND MART', 'HAPPY MART',\n",
       "       'EFRATA MART', 'MIKRO MART', 'WP MART', 'Kirana Mart',\n",
       "       'RafaThop Mart', 'MONCONGLOE MART', 'FI MART', 'JOSIKA MART',\n",
       "       'SURYA AMANAH MINI MART', 'Traya Mart', 'I  MART', 'Dame Mart',\n",
       "       'Triple A Mart', 'TOMOD UKM MART PRIMKOPPOL POLRES BOGOR',\n",
       "       'TOKO MILBOS MART', 'SUSKA MART', 'Ceria_Grosir', 'KALEI MART',\n",
       "       'TOKO NANDA', 'AULIA MART', 'MILLENIUM MM', 'Zumy Mart',\n",
       "       'RAKARAI MART', 'CENTRAMART', 'Diva Mart', 'Toko Medinarsya',\n",
       "       'GEMARIPAH MART', 'MINIMARKET SYARIAH INSAN NURUL MUHIBBIN',\n",
       "       'MINIMARKET DUA PUTRA', 'BUMDES SHOP', 'MANDIRA MART',\n",
       "       'SHELVA MART', 'HCR MART', 'Elint Mart', 'MOL MART',\n",
       "       'BUMDES MART SELAGIK', 'TOKO RICKY', 'Metro Mart', 'TOKO HEPPI',\n",
       "       'FII MART', 'Kwangrase Mart', 'LEO MART', 'BEST MART ', 'HAT MART',\n",
       "       'WIJAYA MART', 'E Mart', 'RBS Mart', 'TOKO LAILI', 'GTR MART',\n",
       "       'MRT Mart', 'RR MART', 'TMUK TAMA MART', 'CK FAMILY MART',\n",
       "       'Khd Mart', 'HE-MART', \"WYN'S CONVINIENCE\", 'Abyan Mart',\n",
       "       'SARAH MART', 'DAILY MART', 'BISMART', 'DN STORE', 'BIN ALI MART',\n",
       "       'CORDOVA MART', 'TOKO ELSA', 'ROS Mart', 'YAMart', 'ALFARUS MART',\n",
       "       'SABILAL MART', 'J-MART', 'Domini Mart', 'TOKO ANDRA ALIT',\n",
       "       'TMUK LRT GATEWAY', 'AK MART', 'SR MART', 'Volion Mart', 'AN MART',\n",
       "       'ANDEWE', 'TOMOD ALENZO', 'TOMOD BUMDES ASA MANDIRI', 'COSMO MART',\n",
       "       'SURYA Mart', 'LULU MART', 'BETA MART', 'RR MART 1', 'K7MART',\n",
       "       'TOKO MITRA AFRA', 'DALWA MART', 'COKRO 4 MART', 'FAHMA AMRT',\n",
       "       'SHREE MART', 'GA MART', 'MAHADEWA MART', 'JAS 26 MART',\n",
       "       'KOPERASI KARYAWAN SEJAHTERA ANAR', 'SMK GOLDEN', 'FUJI MART',\n",
       "       'SWALAYAN AFIAT KOPKAR RSKD', 'ADHYAKSA MART', 'ECHO',\n",
       "       'Detha Mart', 'PT. SAUDAGAR DUTA GREENINDO', 'TOMOD BETHESDA',\n",
       "       'KOPERASI KONSUMEN SINERGI GERAK BERSAMA', 'MEGAREZKY MART',\n",
       "       'TMUK 01 JAMBORE MART', 'EXPRESS', 'FLAMBOYAN MART', 'DaffaMart',\n",
       "       'KOPERASI KERTASAMA', 'T-MART', 'SMART', 'VIKENZ MART',\n",
       "       'Fafa Mart', 'SABISA MART', \"D'FAMILY MART\", 'MADANI MART',\n",
       "       'TOKO SEMBAKO H JAJA', 'PK BDP SMK NEGERI 1 KOTA SERANG',\n",
       "       'MM KOP PUSDIKLAT', 'SAYANG MART', 'AAK MART', 'HABIBI MART',\n",
       "       'MANG PEDEKA MART', 'KORBHAMA MART', 'GUYS MY EATERY HOME',\n",
       "       'SNACK MART SMKN PP PELAIHARI', 'TOKO DIVA WIGUNA', 'RUMART',\n",
       "       'KOPKAR BERKAH SWADAYA MANDIRI', 'TOKO SEMOGA BERKAH',\n",
       "       'TMUK 01 AL MADINAH MART', 'FAFA MART', 'MARKII MART', 'TREE MART',\n",
       "       'Fresh Mart', 'SMATA MART', 'Jasmine Mart', '3R MART', 'MiniFresh',\n",
       "       'JEEMART', 'TOKO AMAT', 'AL KAUTSAR MART', 'MM BERKAT',\n",
       "       'UD RIZKI BAROKAH', 'RBT MART', 'TOKO BERKAH', \"LYN'S MART\",\n",
       "       'MINI MARTT', 'SHANZA MART', 'Lythecia Mart', 'MULTAZAM',\n",
       "       'Fahmil quran Mart', 'KOPERASI BEA CUKAI SOEKARNO HATTA',\n",
       "       'TOKO BERKAHH', 'R&R MART', 'HIQMAH STORE', 'SEJAHTERA MART',\n",
       "       'Mystery Shop', 'VIRENDRA MART', 'PROFMART', 'PRIME MART LGERC',\n",
       "       'ASRI MART', 'KOTITAN MART  2', 'CEMARA MART', 'SS MART',\n",
       "       'ODES MART', 'KOMINFO MART', 'DEMO PRODUK'], dtype=object)"
      ]
     },
     "execution_count": 5285,
     "metadata": {},
     "output_type": "execute_result"
    }
   ],
   "source": [
    "# Melihat nilai pada variabel\n",
    "\n",
    "df['store_name'].unique()"
   ]
  },
  {
   "cell_type": "code",
   "execution_count": 5286,
   "metadata": {},
   "outputs": [
    {
     "data": {
      "text/plain": [
       "385"
      ]
     },
     "execution_count": 5286,
     "metadata": {},
     "output_type": "execute_result"
    }
   ],
   "source": [
    "# Melihat berapa banyak jenis variabel yang ada\n",
    "\n",
    "len(df['store_name'].unique())"
   ]
  },
  {
   "cell_type": "markdown",
   "metadata": {},
   "source": [
    "Kita dapat melihat ada 385 label unik di variabel `store_name`. Jumlah total instance dalam kumpulan data adalah 385. Jadi, ini kira-kira merupakan pengidentifikasi unik untuk setiap instance. Jadi ini bukan variabel yang bisa kita gunakan. Oleh karena itu, saya akan menghilangkannya."
   ]
  },
  {
   "cell_type": "markdown",
   "metadata": {},
   "source": [
    "### Explore variabel `first_name`, `last_name`, `reg_date`, `ref_grocery_store_code`, `client_category`, `store_address` dan `store_name`"
   ]
  },
  {
   "cell_type": "code",
   "execution_count": 5287,
   "metadata": {},
   "outputs": [
    {
     "data": {
      "text/plain": [
       "array(['TMUK', 'Kopkar PUJASERA', 'Grosir', 'Maha', 'Manindo ',\n",
       "       'Taekwang', 'Galaxy', 'Tins', 'Mini', 'Nazwa', 'PPA', 'Toko',\n",
       "       'Vita', 'INDAH', 'KAMIL', 'ROSANI', 'BUMDES', 'ALEXANDERIA',\n",
       "       'Tomod', 'Dora', 'African', 'Javi', 'Fidi', 'NSA', 'Hansay',\n",
       "       'NURSITI', 'RAHMAD', 'WILLY', 'BINA', 'KOPERASI PT PANTOS', 'Ali',\n",
       "       'Dr. Zulfikar', 'Abdul Haris', 'Syamsudin', 'Dona ', 'Riana ',\n",
       "       'ZAENAL', 'DESSI', 'Ahmad ', 'NISWANTI', 'MUHAMMAD', 'WIDARSIH',\n",
       "       'Purnawansyah', 'ANDI HIDAYAT', 'WAHYU HIDAYAT', 'KETUT',\n",
       "       'PRAMADYA', 'TIKA', 'ARIEF ', 'NURMAN', 'AAT', 'SUKMA ',\n",
       "       'NUFI MART', 'MARYANI ', 'Bastian', 'DWI', 'HOTMIDA', 'EKA',\n",
       "       'Ali ', 'Pajri ', 'Karyadi', 'RITA', 'AGUS', 'Aswin', 'Justaman',\n",
       "       'Adib', 'RACHMAT', 'TONI ', 'SUGIARTO', 'NYOMAN AGUS SAPUTRA',\n",
       "       'IR ASEP', 'WILMAR', 'MISBAHUL', 'IR AGUS', 'ALAN', 'Handoko',\n",
       "       'Gunawan', 'ABAS ', 'HERI', 'KEVIN ', 'Fajar', 'LUH PUTU',\n",
       "       'HAMDAN PURNAMAN', 'SULAEMAN ', 'DANI', 'HARYANTO', 'KHAIRUL',\n",
       "       'Anita', 'HAUWITO', 'USMAN', 'Bunyamin', 'Ihsan', 'Belva', 'HALEX',\n",
       "       'NOVIAN', 'Rikardus', 'JUWADI  SE,MM', 'UCU', 'KENT ', 'KUSPRIADI',\n",
       "       'HENDRA ', 'DWI PUSPITA', 'ELIN', ' BANDOT', 'Teuku Tjut',\n",
       "       'LUVILY ', 'Evi', 'Asep', 'AHMAD', 'RINDU', 'Mohammad', 'a',\n",
       "       'Lutfi', 'Harry ', 'DEWI WIDOWATI', 'ENDRI SUSILOWATI A.MD',\n",
       "       'ATIK', 'HARI', 'IRFAN', 'JONI', 'RIZAL', 'SINASEH', 'MAULIA',\n",
       "       'Ummu Latifah', 'Maksum', 'Praditya', 'BUDI', 'JUMADI', 'NARDI',\n",
       "       'JONINTO', 'SUTOYO', 'HERLINA', 'Titi', 'TH. SUSILORINI', 'Bara',\n",
       "       'FIPI', 'APRIYANI ', 'VIRGO PITOYO', 'ISMET', 'JAMIT', 'WIFKY',\n",
       "       'WAHYU', 'JOKO ', 'Adi', 'ANTONY', 'Ibrahim', 'IMAM', 'MATAWI ',\n",
       "       'CHRISTY', 'BAMBANG ', 'ALI', 'ZAINUL', 'RUSDI ', 'YOYO',\n",
       "       'HARLIANTO', 'HERSON', 'Firman', 'NASIRIN',\n",
       "       'SYAHRIR., S.SIT., S.KEP', 'FAHMI', 'ESI', 'ALTA DELI SAPUTRA',\n",
       "       'ARYO', 'TANTI YANA', 'Rehulina', 'MIAN', 'Vicky', 'SUMAYA',\n",
       "       'IR. IRVAN', 'CAKHYONO', 'JUMAWATY', 'DANIEL ', \"Rofi'atin\",\n",
       "       'NYONYA', 'IHSAN', 'BOY', 'MIRA', 'IFAN', 'HJ. SARIFAH ', 'TAHAL',\n",
       "       'Denny Reymond ', 'MARIA', 'Slamet', 'Irma', 'ABDUL', 'MUNAWIRIL',\n",
       "       'LAYLA', 'MAHPUZ', 'Sanyoto', 'INDRA', 'SITI', 'ZAKARIAS',\n",
       "       'ERRY ERAWAN ', 'FERNANDO ', 'HERYANTO RACHMAN', 'AHMAD ', 'YEKTI',\n",
       "       'SETIYA', 'BARTO', 'HERMAN', 'NAJIB', 'Jeremy', 'Y Sri', 'ULET',\n",
       "       'RAHMALIAH', 'Tanib', 'Ravindra', 'BPK ANDRY', 'YUSKAL ', 'PERTA',\n",
       "       'YUSFIN', 'NIA', 'BAMBANG WALUYO SEJATI', 'Roihatun', 'Listiani',\n",
       "       'MINANGA', 'YULIA', 'SISKA', 'Bagus', 'Prima Listya',\n",
       "       'NI MADE REMPIN', 'Fenny', 'Ade ', 'SARAH ', 'Ekie',\n",
       "       'GANDA SUPRIONO MARBUN', 'SIGUT', 'IDA', 'COK ISTRI MIRAH , SE.',\n",
       "       'Umi', 'A.A ISTRI AGUNG DELLY PARINI', 'DEDI', 'Diana',\n",
       "       'Moch.Dodon', 'IR. AHMAD ', 'MULYADI', 'SAIFUL', 'ENDING', 'M NUR',\n",
       "       'SHELVA MART', 'HJ HETY', 'Isak', 'Muhamad', 'Hamdan',\n",
       "       'HENDRA J MANIK', 'DEDE', 'LILIS', 'TAUFIK', 'Tahar',\n",
       "       'N BRAMANTA WAYABIA', 'erina', 'HERU TRIWIBOWO,IR', 'Indra',\n",
       "       'Munjayanah', 'NAZWA', 'LINZKY', 'YOSEF TRIANTO', 'SATRIANY',\n",
       "       'Abdurrahman', 'CAHYANINGRUM INDARIYATI', 'Sugiharto', 'SISWOTO',\n",
       "       'SURIANA', 'Ibu', 'SHELLA', 'BOBY', 'IDI', 'SANJAY ', 'CORDOVA',\n",
       "       'MERI ', 'Ade Rahmat', 'BISMA', 'SUGIANTO', 'EDY', 'MUCHAMAD',\n",
       "       'Eddhy', 'KURAESIN', 'WINDIANTO', 'YAYASAN', 'PERI ', 'Gulam',\n",
       "       'NURHAYADI', 'ATRYAN ROHALDY MULUK', 'NURLAILA', 'ENDANG ',\n",
       "       'Sasi Agustika ', 'Liwaul', 'YAYA', 'SUGENG', 'HJ', 'ANDRE',\n",
       "       'SOLIHIN', 'SMK N 4', 'IRIYANI', 'NI KOMANG ADI AYU ARMIASIH',\n",
       "       'I MADE', 'JUWANDA', 'SANNAZ', 'Aulia', 'MUH SYAHRUN',\n",
       "       'FIRMANSYAH', 'KHAIRUNNISSA', 'ECHO', 'Baiq',\n",
       "       'Sandi Wiyully Pranoto', 'RANA NUGRAHA', 'SITI ', 'WELLYANI',\n",
       "       'WAHIDIN', 'RUBIANTO', 'DANI ', 'HELMI ', 'TEGUH', 'SOLIKHIN',\n",
       "       'PANDE PUTU', 'M. Iman', 'MUHAMMAD ', 'NENY', 'RENYWATI ',\n",
       "       'SUGIMAN, S.SOS', 'NAMIROH', 'DHIKA', 'DEWI', 'ANNY ', 'SAENAH',\n",
       "       'ADI', 'SAMRINAH', 'TRI', 'CHAIRUL ', 'I NYOMAN', 'WAWANG',\n",
       "       'JUWAN ', \"MA'MUN\", 'HILMAN ', 'Melly', 'WIDADRI REJIANA', 'Kazi',\n",
       "       'HENDRA', 'YULIANA ', 'NOOR ', 'DIO', 'JUBEL RINTO ', 'HENNY ',\n",
       "       'Muhammad', 'HARIANA', 'MUH', 'DINI ', 'YULIS  ', 'HUSIN', 'RAHMI',\n",
       "       'RIAN RAHMAT', 'Imelda', 'ANDI', 'PUJI', 'SRI', 'ADHI', 'CATHRINE',\n",
       "       'Gurnita', 'ENI ', 'NENENG', 'KHOERUNNISA', 'TISNA', 'MUHAMAD ',\n",
       "       'ABDUL ', 'Ni Kadek ', 'ODES MART', 'Wayan ', 'DEMO'], dtype=object)"
      ]
     },
     "execution_count": 5287,
     "metadata": {},
     "output_type": "execute_result"
    }
   ],
   "source": [
    "# Melihat nilai pada variabel\n",
    "\n",
    "df['first_name'].unique()"
   ]
  },
  {
   "cell_type": "code",
   "execution_count": 5288,
   "metadata": {},
   "outputs": [
    {
     "data": {
      "text/plain": [
       "368"
      ]
     },
     "execution_count": 5288,
     "metadata": {},
     "output_type": "execute_result"
    }
   ],
   "source": [
    "# Melihat berapa banyak jenis variabel yang ada\n",
    "\n",
    "len(df['first_name'].unique())"
   ]
  },
  {
   "cell_type": "code",
   "execution_count": 5289,
   "metadata": {},
   "outputs": [
    {
     "data": {
      "text/plain": [
       "array(['Testing', 'Pasar Rebo', 'Max', 'Mart', 'Taekwang', 'Sri', 'MART',\n",
       "       'CIKARANG', 'STORE', 'Mitra', 'Shop', 'AZIZAH', 'HANIF FUADY',\n",
       "       'JOHANES SUMENDAP', 'LOGISTIK', 'Member Mart', 'Goesli', 'Aca',\n",
       "       nan, 'Rosalina', 'Eka Sari', 'ABIDIN', 'PRITHASARI', 'Jubaedi',\n",
       "       '-', 'SUPRIADI', 'ZAIDUN', 'SUDIBYO', 'SRI SUDIBYO', 'MUSTIKA',\n",
       "       'SOBARI', 'HAKIM HIDAYAT', 'MAWIJAYA', 'WIJAYA', 'M KHOLISUL',\n",
       "       'M AMIR', 'Karya Simanjutak', 'DANINGRUM', 'SINAGA', 'NURMAYASARI',\n",
       "       'Sabar', 'Pebrianto ', 'VERAWATI', 'MUHARAM', 'Reza Sumantri',\n",
       "       'Karo Karo', 'Hasan', 'NUGROHO', 'HANDOKO', 'SUPRIATNA',\n",
       "       'ADAM DJUSAN', 'MUNIR MM IR', 'PRAMONO', 'KUSUMA', 'Hartono',\n",
       "       'Rahadja', 'MAULANA', 'SUKAMTO', 'KARYANTO', 'Trisno Wurianto',\n",
       "       'ANDARINI', 'HANIFAN', 'ANAM, SE', 'Siska Surbakti', 'WITO',\n",
       "       'BIMANTARA ST', 'Hamdani', 'Supardi', 'Mandiri', 'Jelahu',\n",
       "       'KURNIAWATI', 'ALFIAN', 'NINGSIH', 'SAFITRI', 'SUMARDIYONO',\n",
       "       'Nelwan Zola', 'FEBRIANI', 'Rosilawati', 'Gumelar', 'SARHINDI',\n",
       "       'RUDI HARYANTO ', 'HASTUTI', 'Asyhadi', 'SAPUTRI', 'Suryahadi',\n",
       "       'MURDIATI', 'ADI', 'MARWANZA', 'ATMAJA', 'FAHMI', 'AMD', 'NURUL',\n",
       "       'Ummu', 'Suparman', 'Levian', 'HARIS ST.', 'JUMADI', 'SOSVICKHA',\n",
       "       'Suryati', 'Nur Diansyah', 'AHMAD', 'MUNGGARAN', 'RAHMATULLAH',\n",
       "       'WULANINGSIH', 'ISRANTO', 'Supriyono', 'Saleh', 'SETIA BUDI',\n",
       "       'HARDIANTO', 'ANWAR', 'ICHWAN', 'SUGENG TRIYOGO', 'KERADJAAN',\n",
       "       'Gea', 'RIZKI', 'ASMARYANI', 'WICAKSONO', 'SARI', 'Bukit',\n",
       "       'TASLIM', 'Nurdana', 'DHUHANY', 'RANDU SURONO', 'HARTONO',\n",
       "       'IQLIMA', 'SUPARDI SS', 'FAISAL', 'ANDRIANI, DRG', 'PRASETIYO',\n",
       "       'MAULANI ', 'PASNI', 'Natalie', 'EFFENDY', 'ULFAH', 'Wahyono',\n",
       "       'Susanti', 'MUNIR', 'FAJRI', 'HAYRI', 'SE, M.KOM', 'Hermawan',\n",
       "       'SUKMANA', 'RAHMA', 'FERDINAND', 'PRIOLAKSO', 'NAENGGOLAN ',\n",
       "       'SAPUTRA', 'Rahman', 'NURUL HUDA ', 'ANDARU K', 'SUGIARTO',\n",
       "       'THERIK', 'DAUD', 'Sarjono', 'Sayuto', 'SINULINGGA',\n",
       "       'MUTIARA HADI', 'Sembiring', 'Ruwan', 'KINDANGEN', 'SURYA',\n",
       "       'ANTARA', 'KURNIATI', 'WALUYU SEJATI', 'Nafsian', ' PASINGGI',\n",
       "       'HANDAYANI', 'Supriyadi', 'Hapsari', 'REMPIN', 'Gonardi',\n",
       "       'Sanjaya Aliyasa', 'MUTIARA', 'AMALIA', 'Gilang Permata',\n",
       "       ' AVIANSYAH', 'COK', 'Zuchrifah', 'DELY', 'PUTRA', 'Fauzia',\n",
       "       'Romdhona', 'YANI', 'BASSA', 'MUHTADIN', 'AIDI', 'BUDI',\n",
       "       'NURESMIATY', 'Sitompul', 'Maulidi', 'Firdaos', 'MANIK', 'HARDI',\n",
       "       'SURANTI', 'Muliadi', 'AMELIA', 'WAYABIA', 'agustina', 'Wibawa',\n",
       "       'Bashorie', 'LAEL LUKAS', 'GUNADI', 'RAZAK', 'Wahid', 'Rohmi',\n",
       "       'FIRMANSYAH', 'DARUSMAN', 'YUNUS', 'SYOFYANI SYARIAH', 'Faisal',\n",
       "       'WIDYAWAN', 'SETYO UTOMO SE,MH', 'BAIHAQI', 'Tjemerlang',\n",
       "       'AL - KAUTSAR', 'KRISWANTO', 'Prianggono', 'RUHIYAT', 'supraba',\n",
       "       'Hamdi', 'ACHMAD ZAKARYA', ' CATUR RIYADI', 'SYAMSIAH',\n",
       "       'THANO MUTIARA', ' SUARTA ', 'ARDIANSYAH', 'PIRASHASAILA',\n",
       "       'Nur Fadilah', 'KHAIRUNNISSA', 'Genep', 'Pranoto', 'BETHESDA',\n",
       "       'RAYANA', 'NURUL HALIZA', 'ZULAIHA', 'WAHIDIN', 'HADIAN',\n",
       "       'IRAWAN ST', 'ARIFIANTO', 'PARAMANDIKA PERMADI', 'Mustalutfi',\n",
       "       'SANUSI', 'KUSMAWATI', 'BACHTIAR PUTRI', 'S.Pd', 'MARDIAN',\n",
       "       ' ANDRIANY ', 'RACHMAT', 'PURNAMA DEWI', 'SUARDIPA', ' ANWARUDIN',\n",
       "       'OKTAVIANSA', 'MUKTIYONO', 'MURODI', 'ADI PUTRA', 'Delia',\n",
       "       'AFIFAH THUFAILIN', 'Muntazeri', 'PANDEAN', 'CORNELIA', 'DAHLINA',\n",
       "       'MARTHA', 'RINTO ARITONANG ', 'NURUL HANDARUNI', 'Rafiq',\n",
       "       'NAJAMUDIN', 'ULAN', ' WIJAYATI ', 'WAHYUNI', 'NUR', 'Nainggolan',\n",
       "       ' IRKHAM', 'AUNILLAH', 'SAIFUDDIN', 'YULIA SETIANI', 'TRISNAWATI',\n",
       "       'RIHANTONI', 'CATHRINE', 'Ekalaya', 'MAWARNI ', 'SRI MULYANI',\n",
       "       'HADI', 'HAFIZAH MULYADI', 'Sisi Suastiari', 'MUH', 'PRODUK'],\n",
       "      dtype=object)"
      ]
     },
     "execution_count": 5289,
     "metadata": {},
     "output_type": "execute_result"
    }
   ],
   "source": [
    "# Melihat nilai pada variabel\n",
    "\n",
    "df['last_name'].unique()"
   ]
  },
  {
   "cell_type": "code",
   "execution_count": 5290,
   "metadata": {},
   "outputs": [
    {
     "data": {
      "text/plain": [
       "286"
      ]
     },
     "execution_count": 5290,
     "metadata": {},
     "output_type": "execute_result"
    }
   ],
   "source": [
    "# Melihat berapa banyak jenis variabel yang ada\n",
    "\n",
    "len(df['last_name'].unique())"
   ]
  },
  {
   "cell_type": "code",
   "execution_count": 5291,
   "metadata": {},
   "outputs": [
    {
     "data": {
      "text/plain": [
       "array(['2019-08-22 18:03:39.050719', '2019-08-22 17:58:45.991926',\n",
       "       '2019-09-13 09:32:13.873978', '2019-09-18 19:02:30.874849',\n",
       "       '2019-09-20 10:39:20.873399', '2019-09-24 14:52:31.048851',\n",
       "       '2019-09-24 14:54:20.323095', '2019-10-02 11:32:38.947939',\n",
       "       '2019-10-02 11:37:00.494782', '2019-10-02 11:49:05.403786',\n",
       "       '2019-10-02 12:09:26.923589', '2019-10-02 12:11:22.46782',\n",
       "       '2019-10-04 13:34:03.735563', '2019-10-04 14:08:00.222957',\n",
       "       '2019-10-04 14:25:53.723342', '2019-10-04 15:35:51.059494',\n",
       "       '2019-10-04 16:15:35.67421', '2019-10-04 16:19:08.473826',\n",
       "       '2019-10-09 18:09:29.051336', '2019-10-09 18:12:39.740003',\n",
       "       '2019-10-09 18:16:57.286283', '2019-10-09 18:24:26.902202',\n",
       "       '2019-10-09 18:28:47.150181', '2019-10-09 18:30:58.215145',\n",
       "       '2019-10-09 19:45:25.577654', '2019-10-14 11:30:46.088535',\n",
       "       '2019-10-14 11:34:02.734574', '2019-10-14 11:36:13.509152',\n",
       "       '2019-10-14 11:44:37.919407', '2019-10-16 17:32:34.62455',\n",
       "       '2019-10-16 17:39:15.588339', '2019-10-16 17:43:01.935136',\n",
       "       '2019-10-16 17:47:17.1294', '2019-10-17 11:33:32.144991',\n",
       "       '2019-10-17 11:35:21.557747', '2019-10-17 11:37:10.410412',\n",
       "       '2019-10-17 11:39:02.330977', '2019-10-22 16:18:42.304114',\n",
       "       '2019-10-25 16:08:27.854069', '2019-10-25 16:12:18.57178',\n",
       "       '2019-10-25 16:16:56.938506', '2019-10-25 16:18:34.668737',\n",
       "       '2019-11-05 13:53:22.326755', '2019-11-05 13:58:51.419371',\n",
       "       '2019-11-05 14:57:33.712905', '2019-11-05 15:00:03.096877',\n",
       "       '2019-11-06 08:59:48.983201', '2019-11-06 09:01:32.309398',\n",
       "       '2019-11-07 14:31:33.759599', '2019-11-07 14:33:15.897237',\n",
       "       '2019-11-13 13:55:29.859081', '2019-11-13 13:57:00.557751',\n",
       "       '2019-11-13 13:58:41.481789', '2019-11-13 14:00:29.870026',\n",
       "       '2019-11-13 14:04:39.85272', '2019-11-15 17:01:39.809739',\n",
       "       '2019-11-15 17:06:20.861527', '2019-11-15 17:07:58.134791',\n",
       "       '2019-11-15 17:12:48.011559', '2019-11-15 17:14:36.204422',\n",
       "       '2019-11-15 17:17:24.607367', '2019-11-15 17:26:03.446128',\n",
       "       '2019-11-21 11:37:45.538729', '2019-11-21 11:39:40.353871',\n",
       "       '2019-11-22 15:54:02.862135', '2019-11-23 14:37:48.569886',\n",
       "       '2019-12-09 18:22:08.656065', '2019-12-09 18:24:00.184931',\n",
       "       '2019-12-17 15:00:30.553176', '2019-12-17 15:02:09.322118',\n",
       "       '2019-12-18 15:35:25.745565', '2019-12-18 15:36:42.821897',\n",
       "       '2019-12-23 13:43:24.308423', '2019-12-23 13:47:04.546284',\n",
       "       '2019-12-23 13:49:37.627593', '2019-12-23 14:07:04.62646',\n",
       "       '2019-12-23 14:11:31.620653', '2020-01-02 15:58:16.782116',\n",
       "       '2020-01-06 16:22:11.453277', '2020-01-06 16:39:11.567344',\n",
       "       '2020-01-06 16:41:42.662573', '2020-01-06 16:48:07.853169',\n",
       "       '2020-01-07 16:18:37.425553', '2020-01-08 14:11:03.353005',\n",
       "       '2020-01-08 14:28:06.795549', '2020-01-08 14:41:16.544979',\n",
       "       '2020-01-08 15:35:03.452713', '2020-01-08 15:36:31.293798',\n",
       "       '2020-01-09 14:01:20.780834', '2020-01-13 15:45:28.004845',\n",
       "       '2020-01-13 15:55:25.843927', '2020-01-13 15:56:54.465261',\n",
       "       '2020-01-13 15:58:23.417535', '2020-01-13 16:00:01.547931',\n",
       "       '2020-01-17 13:44:50.108608', '2020-01-17 13:54:58.541337',\n",
       "       '2020-01-17 13:58:02.049689', '2020-01-21 17:13:29.138259',\n",
       "       '2020-01-21 17:24:42.459057', '2020-01-21 17:27:32.573379',\n",
       "       '2020-01-21 17:29:01.014072', '2020-01-22 15:23:27.623288',\n",
       "       '2020-01-22 15:25:37.041012', '2020-01-22 15:27:19.092824',\n",
       "       '2020-01-22 15:31:48.583044', '2020-01-22 17:10:18.326992',\n",
       "       '2020-01-24 15:51:16.893891', '2020-02-03 14:02:31.601498',\n",
       "       '2020-02-03 14:10:58.076711', '2020-02-03 14:12:48.145436',\n",
       "       '2020-02-03 14:42:17.099556', '2020-02-03 14:43:50.778944',\n",
       "       '2020-02-03 14:48:06.591965', '2020-02-03 15:01:18.005335',\n",
       "       '2020-02-06 10:47:39.801304', '2020-02-11 09:13:55.657175',\n",
       "       '2020-02-11 09:16:06.230771', '2020-02-11 09:19:14.853313',\n",
       "       '2020-02-11 09:21:07.002308', '2020-02-12 14:48:16.511093',\n",
       "       '2020-02-12 14:50:02.707987', '2020-02-12 14:51:24.343115',\n",
       "       '2020-02-12 14:55:50.435153', '2020-02-12 14:57:39.306037',\n",
       "       '2020-02-12 14:59:09.657413', '2020-02-14 09:43:15.188383',\n",
       "       '2020-02-14 09:45:54.63545', '2020-02-16 22:35:01.58906',\n",
       "       '2020-02-16 22:37:37.497867', '2020-02-17 13:17:47.46892',\n",
       "       '2020-02-19 09:22:22.882063', '2020-02-21 17:06:42.756587',\n",
       "       '2020-02-21 17:07:56.288142', '2020-02-21 17:09:11.609244',\n",
       "       '2020-02-21 21:36:05.466046', '2020-02-21 21:37:54.54687',\n",
       "       '2020-02-26 14:43:53.51741', '2020-02-26 14:45:26.910847',\n",
       "       '2020-03-03 15:50:17.851835', '2020-03-04 13:03:58.773819',\n",
       "       '2020-03-04 13:17:41.998946', '2020-03-05 15:01:19.899428',\n",
       "       '2020-03-11 13:51:27.185841', '2020-03-11 14:17:37.697651',\n",
       "       '2020-03-11 14:25:14.44179', '2020-03-11 14:27:49.661856',\n",
       "       '2020-03-11 14:44:33.353598', '2020-03-12 13:30:01.957457',\n",
       "       '2020-03-13 14:07:51.61117', '2020-03-18 14:28:57.432797',\n",
       "       '2020-03-18 14:37:44.250111', '2020-03-18 15:20:53.096564',\n",
       "       '2020-03-20 15:56:45.43654', '2020-03-30 11:04:58.88795',\n",
       "       '2020-03-30 11:07:34.029943', '2020-04-01 15:49:48.618849',\n",
       "       '2020-04-01 15:53:34.842465', '2020-04-06 10:59:41.535149',\n",
       "       '2020-04-06 11:05:52.122624', '2020-04-09 15:15:12.576401',\n",
       "       '2020-04-14 10:19:08.148725', '2020-04-14 10:20:58.270013',\n",
       "       '2020-04-21 15:41:38.710604', '2020-04-21 15:43:59.801617',\n",
       "       '2020-04-23 16:03:42.867109', '2020-04-23 16:06:49.302584',\n",
       "       '2020-04-23 16:45:30.911781', '2020-04-24 15:20:33.535121',\n",
       "       '2020-05-01 00:10:07.923309', '2020-05-06 17:11:07.199845',\n",
       "       '2020-05-13 18:49:08.912586', '2020-05-14 09:48:30.107367',\n",
       "       '2020-05-14 09:51:15.976854', '2020-05-22 12:34:15.068704',\n",
       "       '2020-05-22 12:38:03.741495', '2020-06-08 13:35:26.860904',\n",
       "       '2020-06-18 16:03:59.966598', '2020-06-19 14:11:52.537137',\n",
       "       '2020-06-19 15:12:21.582244', '2020-06-19 15:14:11.291659',\n",
       "       '2020-06-19 15:16:52.459647', '2020-06-19 15:20:37.209141',\n",
       "       '2020-06-19 15:35:09.139854', '2020-06-30 10:48:22.232165',\n",
       "       '2020-06-30 10:50:25.801462', '2020-07-03 14:30:50.582936',\n",
       "       '2020-07-06 16:57:18.329638', '2020-07-10 16:14:39.189782',\n",
       "       '2020-07-11 08:04:30.152138', '2020-07-14 16:28:32.641703',\n",
       "       '2020-07-14 16:30:14.419854', '2020-07-14 16:34:22.324887',\n",
       "       '2020-07-17 12:42:52.969071', '2020-07-17 15:29:10.687233',\n",
       "       '2020-07-22 11:03:38.855646', '2020-07-22 11:21:05.609766',\n",
       "       '2020-07-22 11:22:55.328717', '2020-07-22 11:24:38.859326',\n",
       "       '2020-07-22 11:26:13.323682', '2020-07-23 09:22:53.221912',\n",
       "       '2020-07-28 11:42:34.837679', '2020-08-04 13:25:43.187863',\n",
       "       '2020-08-11 23:12:25.867342', '2020-08-14 10:39:15.752928',\n",
       "       '2020-08-18 14:14:11.448165', '2020-08-27 12:24:12.786593',\n",
       "       '2020-08-27 12:26:48.147116', '2020-09-04 10:47:33.080085',\n",
       "       '2020-09-07 14:23:17.528846', '2020-09-16 09:18:35.220375',\n",
       "       '2020-09-22 13:38:59.797704', '2020-09-24 11:58:28.316111',\n",
       "       '2020-09-24 16:39:57.27949', '2020-09-24 16:43:15.78574',\n",
       "       '2020-10-07 17:20:43.326129', '2020-10-07 17:55:06.593816',\n",
       "       '2020-10-15 11:28:09.721848', '2020-10-20 15:51:59.842264',\n",
       "       '2020-10-23 10:53:14.745676', '2020-10-27 13:26:12.268673',\n",
       "       '2020-11-03 14:07:34.757825', '2020-11-03 14:13:48.958712',\n",
       "       '2020-11-12 10:55:00.900402', '2020-11-12 10:58:33.838449',\n",
       "       '2020-11-25 17:02:01.024509', '2020-11-25 17:05:45.893559',\n",
       "       '2020-11-26 11:19:19.248398', '2020-12-14 12:40:14.327059',\n",
       "       '2020-12-18 16:41:08.171735', '2020-12-18 16:45:39.698248',\n",
       "       '2020-12-28 11:02:00.262925', '2020-12-30 14:43:22.493783',\n",
       "       '2021-01-19 13:25:12.109363', '2021-01-19 13:28:34.19521',\n",
       "       '2021-01-22 09:21:12.881377', '2021-01-22 09:27:03.755878',\n",
       "       '2021-01-22 09:33:07.723045', '2021-01-22 10:23:12.508946',\n",
       "       '2021-01-27 10:10:13.914777', '2021-01-29 14:12:41.42756',\n",
       "       '2021-01-29 14:39:55.198225', '2021-02-04 11:33:10.379703',\n",
       "       '2021-02-24 12:07:18.933546', '2021-03-03 14:35:33.931822',\n",
       "       '2021-03-04 13:35:47.964705', '2021-03-04 13:38:13.030258',\n",
       "       '2021-03-12 15:28:19.754209', '2021-03-16 16:16:59.974254',\n",
       "       '2021-03-16 16:28:36.850543', '2021-03-19 14:24:32.371095',\n",
       "       '2021-03-24 18:41:11.33336', '2021-03-29 14:29:21.16439',\n",
       "       '2021-03-29 14:31:40.067888', '2021-04-01 16:41:33.04997',\n",
       "       '2021-04-09 15:30:47.011482', '2021-04-15 14:09:16.363139',\n",
       "       '2021-04-26 10:46:38.465625', '2021-04-26 10:49:24.89712',\n",
       "       '2021-04-29 10:20:23.99288', '2021-05-19 12:45:19.92067',\n",
       "       '2021-05-20 16:36:59.582236', '2021-05-25 12:00:07.31871',\n",
       "       '2021-05-27 16:28:50.098484', '2021-05-28 15:33:37.83273',\n",
       "       '2021-05-28 16:12:51.596875', '2021-06-07 10:25:12.560729',\n",
       "       '2021-06-07 10:35:09.982939', '2021-06-07 11:35:33.044361',\n",
       "       '2021-06-07 14:25:41.724345', '2021-06-07 14:57:22.669908',\n",
       "       '2021-06-10 12:05:16.265581', '2021-06-11 11:02:29.249268',\n",
       "       '2021-06-22 18:14:10.657341', '2021-06-22 18:18:42.685144',\n",
       "       '2021-07-26 09:35:01.847565', '2021-07-26 09:39:50.114076',\n",
       "       '2021-08-12 16:40:07.165355', '2021-08-12 16:44:24.14161',\n",
       "       '2021-08-16 11:15:41.923593', '2021-08-16 16:57:52.309872',\n",
       "       '2021-08-20 15:42:12.70961', '2021-08-27 15:19:57.060698',\n",
       "       '2021-09-09 16:03:25.810104', '2021-10-07 12:06:27.614087',\n",
       "       '2021-10-07 15:14:08.216456', '2021-10-27 13:24:42.872541',\n",
       "       '2021-11-03 15:44:42.364231', '2021-11-05 10:56:25.168509',\n",
       "       '2021-11-11 09:20:53.468823', '2021-11-23 10:33:09.329172',\n",
       "       '2021-11-23 10:37:12.943723', '2021-11-24 09:51:32.517087',\n",
       "       '2021-11-25 10:59:47.374401', '2021-12-09 09:44:39.352754',\n",
       "       '2021-12-14 14:29:28.340594', '2021-12-14 14:40:41.368718',\n",
       "       '2021-12-14 16:38:56.097935', '2021-12-17 12:28:00.139385',\n",
       "       '2021-12-17 12:32:24.915357', '2021-12-22 15:30:48.055398',\n",
       "       '2021-12-28 22:34:06.556432', '2021-12-28 22:39:53.550017',\n",
       "       '2022-01-04 19:02:28.228379', '2022-01-17 09:46:07.69059',\n",
       "       '2022-02-02 08:53:24.493217', '2022-02-14 23:45:31.164706',\n",
       "       '2022-02-14 23:52:28.123806', '2022-02-15 16:34:27.778385',\n",
       "       '2022-02-15 16:37:44.1289', '2022-02-21 16:26:36.364698',\n",
       "       '2022-02-21 16:34:14.854888', '2022-02-21 16:39:02.356651',\n",
       "       '2022-02-23 10:02:20.92087', '2022-02-24 14:47:47.133896',\n",
       "       '2022-02-24 16:31:09.542259', '2022-03-16 17:27:29.25189',\n",
       "       '2022-03-23 08:17:07.922516', '2022-03-23 14:22:17.824653',\n",
       "       '2022-03-29 17:39:09.032972', '2022-03-30 11:53:23.668114',\n",
       "       '2022-04-14 10:32:38.432317', '2022-04-14 10:35:02.89614',\n",
       "       '2022-04-21 11:59:53.796338', '2022-05-18 11:14:52.694103',\n",
       "       '2022-05-26 12:43:38.793178', '2022-05-31 11:24:38.825251',\n",
       "       '2022-06-29 14:34:16.05008', '2022-07-05 13:53:49.120491',\n",
       "       '2022-07-18 13:49:50.071192', '2022-07-20 14:34:35.886402',\n",
       "       '2022-08-01 13:31:10.404162', '2022-08-01 13:34:30.431681',\n",
       "       '2022-08-10 09:20:05.095852', '2022-08-10 09:25:06.42515',\n",
       "       '2022-08-11 11:55:43.835473', '2022-08-12 10:14:27.65427',\n",
       "       '2022-08-29 17:19:25.678989', '2022-08-29 17:24:23.181343',\n",
       "       '2022-09-01 09:53:40.870525', '2022-09-08 17:21:21.699471',\n",
       "       '2022-09-12 10:35:18.349244', '2022-09-13 13:22:50.01756',\n",
       "       '2022-10-20 16:30:07.669506', '2022-10-21 09:32:08.919358',\n",
       "       '2022-11-09 13:08:56.871111', '2022-11-09 15:02:41.341392',\n",
       "       '2022-11-10 14:51:04.593912', '2022-11-28 08:56:43.884109',\n",
       "       '2022-11-28 09:01:42.618879', '2022-12-09 10:14:11.194686',\n",
       "       '2022-12-09 14:01:48.590634', '2022-12-14 10:24:46.99038',\n",
       "       '2023-01-02 11:31:13.834543', '2023-01-10 08:57:57.689415',\n",
       "       '2023-01-13 09:38:47.152497', '2023-01-18 12:55:28.469093',\n",
       "       '2023-01-31 09:11:02.970694', '2023-02-02 11:54:16.646402',\n",
       "       '2023-02-07 11:50:30.384024', '2023-02-07 11:53:27.214508',\n",
       "       '2023-02-16 13:33:32.479981', '2023-02-16 13:43:56.18746',\n",
       "       '2023-02-21 13:50:58.08962', '2023-02-27 13:40:51.40004',\n",
       "       '2023-03-13 15:19:59.439622', '2023-03-15 11:09:46.216153',\n",
       "       '2023-03-21 21:06:46.031709', '2023-04-06 14:38:59.084538',\n",
       "       '2023-05-11 17:55:22.552484', '2023-05-12 10:59:59.180534',\n",
       "       '2023-05-29 15:33:16.349369', '2023-06-22 09:32:42.718183',\n",
       "       '2023-06-22 09:40:20.075143', '2023-07-06 13:14:25.800928',\n",
       "       '2023-07-26 13:49:24.037384', '2023-07-28 14:23:45.527176',\n",
       "       '2023-08-01 10:22:56.792801', '2023-08-01 11:00:08.057571',\n",
       "       '2023-08-08 10:38:03.054738', '2023-08-28 17:05:14.386514',\n",
       "       '2023-09-25 11:25:42.18869', '2023-10-06 15:59:44.168576',\n",
       "       '2023-10-09 11:18:41.57162', '2023-10-10 13:44:56.926334',\n",
       "       '2021-12-02 19:21:14.521079'], dtype=object)"
      ]
     },
     "execution_count": 5291,
     "metadata": {},
     "output_type": "execute_result"
    }
   ],
   "source": [
    "# Melihat nilai pada variabel\n",
    "\n",
    "df['reg_date'].unique()"
   ]
  },
  {
   "cell_type": "code",
   "execution_count": 5292,
   "metadata": {},
   "outputs": [
    {
     "data": {
      "text/plain": [
       "385"
      ]
     },
     "execution_count": 5292,
     "metadata": {},
     "output_type": "execute_result"
    }
   ],
   "source": [
    "# Melihat berapa banyak jenis variabel yang ada\n",
    "\n",
    "len(df['reg_date'].unique())"
   ]
  },
  {
   "cell_type": "code",
   "execution_count": 5293,
   "metadata": {},
   "outputs": [
    {
     "data": {
      "text/plain": [
       "array([6001, 6008, 6018, 6007, 6002, 6011, 6032, 6019, 6024, 6023, 6029,\n",
       "       6003, 6015, 6033, 6034, 6013, 6022, 6031, 6016, 6028, 6020, 6004,\n",
       "       6026, 6006, 6010, 6005, 6021, 6030, 6014, 6036, 6017, 6037, 6027,\n",
       "       6038, 6009])"
      ]
     },
     "execution_count": 5293,
     "metadata": {},
     "output_type": "execute_result"
    }
   ],
   "source": [
    "# Melihat nilai pada variabel\n",
    "\n",
    "df['ref_grocery_store_code'].unique()"
   ]
  },
  {
   "cell_type": "code",
   "execution_count": 5294,
   "metadata": {},
   "outputs": [
    {
     "data": {
      "text/plain": [
       "35"
      ]
     },
     "execution_count": 5294,
     "metadata": {},
     "output_type": "execute_result"
    }
   ],
   "source": [
    "# Melihat berapa banyak jenis variabel yang ada\n",
    "\n",
    "len(df['ref_grocery_store_code'].unique())"
   ]
  },
  {
   "cell_type": "code",
   "execution_count": 5295,
   "metadata": {},
   "outputs": [
    {
     "data": {
      "text/plain": [
       "array(['tmuk00000', 'tmuk00001', 'tmuk00002', 'tmuk00003', 'tmuk00004',\n",
       "       'tmuk00005', 'tmuk00006', 'tmuk00007', 'tmuk00008', 'tmuk00009',\n",
       "       'tmuk00010', 'tmuk00011', 'tmuk00012', 'tmuk00013', 'tmuk00014',\n",
       "       'tmuk00015', 'tmuk00016', 'tmuk00017', 'tmuk00018', 'tmuk00019',\n",
       "       'tmuk00020', 'tmuk00021', 'tmuk00022', 'tmuk00023', 'tmuk00024',\n",
       "       'tmuk00025', 'tmuk00026', 'tmuk00027', 'tmuk00028', 'tmuk00029',\n",
       "       'tmuk00030', 'tmuk00031', 'tmuk00032', 'tmuk00033', 'tmuk00034',\n",
       "       'tmuk00035', 'tmuk00036', 'tmuk00037', 'tmuk00038', 'tmuk00039',\n",
       "       'tmuk00040', 'tmuk00041', 'tmuk00042', 'tmuk00043', 'tmuk00044',\n",
       "       'tmuk00045', 'tmuk00046', 'tmuk00047', 'tmuk00048', 'tmuk00049',\n",
       "       'tmuk00050', 'tmuk00051', 'tmuk00052', 'tmuk00053', 'tmuk00054',\n",
       "       'tmuk00055', 'tmuk00056', 'tmuk00057', 'tmuk00058', 'tmuk00059',\n",
       "       'tmuk00060', 'tmuk00061', 'tmuk00062', 'tmuk00063', 'tmuk00064',\n",
       "       'tmuk00065', 'tmuk00066', 'tmuk00067', 'tmuk00068', 'tmuk00069',\n",
       "       'tmuk00070', 'tmuk00071', 'tmuk00073', 'tmuk00074', 'tmuk00075',\n",
       "       'tmuk00076', 'tmuk00077', 'tmuk00078', 'tmuk00079', 'tmuk00080',\n",
       "       'tmuk00081', 'tmuk00082', 'tmuk00083', 'tmuk00084', 'tmuk00085',\n",
       "       'tmuk00086', 'tmuk00087', 'tmuk00088', 'tmuk00089', 'tmuk00090',\n",
       "       'tmuk00091', 'tmuk00092', 'tmuk00093', 'tmuk00094', 'tmuk00095',\n",
       "       'tmuk00096', 'tmuk00097', 'tmuk00098', 'tmuk00100', 'tmuk00101',\n",
       "       'tmuk00102', 'tmuk00103', 'tmuk00104', 'tmuk00105', 'tmuk00106',\n",
       "       'tmuk00107', 'tmuk00108', 'tmuk00109', 'tmuk00110', 'tmuk00111',\n",
       "       'tmuk00112', 'tmuk00113', 'tmuk00114', 'tmuk00115', 'tmuk00116',\n",
       "       'tmuk00117', 'tmuk00118', 'tmuk00119', 'tmuk00120', 'tmuk00121',\n",
       "       'tmuk00122', 'tmuk00123', 'tmuk00124', 'tmuk00125', 'tmuk00126',\n",
       "       'tmuk00127', 'tmuk00128', 'tmuk00130', 'tmuk00131', 'tmuk00132',\n",
       "       'tmuk00134', 'tmuk00135', 'tmuk00136', 'tmuk00137', 'tmuk00138',\n",
       "       'tmuk00139', 'tmuk00140', 'tmuk00141', 'tmuk00142', 'tmuk00143',\n",
       "       'tmuk00144', 'tmuk00145', 'tmuk00146', 'tmuk00147', 'tmuk00148',\n",
       "       'tmuk00149', 'tmuk00150', 'tmuk00151', 'tmuk00152', 'tmuk00153',\n",
       "       'tmuk00154', 'tmuk00155', 'tmuk00156', 'tmuk00157', 'tmuk00158',\n",
       "       'tmuk00160', 'tmuk00161', 'tmuk00162', 'tmuk00163', 'tmuk00164',\n",
       "       'tmuk00165', 'tmuk00166', 'tmuk00167', 'tmuk00168', 'tmuk00169',\n",
       "       'tmuk00170', 'tmuk00171', 'tmuk00172', 'tmuk00173', 'tmuk00174',\n",
       "       'tmuk00175', 'tmuk00176', 'tmuk00177', 'tmuk00178', 'tmuk00179',\n",
       "       'tmuk00180', 'tmuk00181', 'tmuk00182', 'tmuk00183', 'tmuk00184',\n",
       "       'tmuk00185', 'tmuk00186', 'tmuk00187', 'tmuk00188', 'tmuk00189',\n",
       "       'tmuk00190', 'tmuk00191', 'tmuk00192', 'tmuk00193', 'tmuk00194',\n",
       "       'tmuk00195', 'tmuk00196', 'tmuk00197', 'tmuk00198', 'tmuk00199',\n",
       "       'tmuk00200', 'tmuk00201', 'tmuk00202', 'tmuk00203', 'tmuk00204',\n",
       "       'tmuk00205', 'tmuk00206', 'tmuk00207', 'tmuk00208', 'tmuk00209',\n",
       "       'tmuk00210', 'tmuk00211', 'tmuk00212', 'tmuk00213', 'tmuk00214',\n",
       "       'tmuk00215', 'tmuk00216', 'tmuk00217', 'tmuk00218', 'tmuk00219',\n",
       "       'tmuk00220', 'tmuk00221', 'tmuk00222', 'tmuk00223', 'tmuk00224',\n",
       "       'tmuk00225', 'tmuk00226', 'tmuk00227', 'tmuk00228', 'tmuk00229',\n",
       "       'tmuk00230', 'tmuk00231', 'tmuk00232', 'tmuk00233', 'tmuk00234',\n",
       "       'tmuk00235', 'tmuk00236', 'tmuk00237', 'tmuk00238', 'tmuk00239',\n",
       "       'tmuk00240', 'tmuk00241', 'tmuk00242', 'tmuk00243', 'tmuk00244',\n",
       "       'tmuk00245', 'tmuk00246', 'tmuk00247', 'tmuk00248', 'tmuk00249',\n",
       "       'tmuk00250', 'tmuk00251', 'tmuk00252', 'tmuk00253', 'tmuk00254',\n",
       "       'tmuk00255', 'tmuk00256', 'tmuk00257', 'tmuk00259', 'tmuk00260',\n",
       "       'tmuk00261', 'tmuk00262', 'tmuk00263', 'tmuk00264', 'tmuk00265',\n",
       "       'tmuk00266', 'tmuk00267', 'tmuk00268', 'tmuk00269', 'tmuk00270',\n",
       "       'tmuk00271', 'tmuk00272', 'tmuk00273', 'tmuk00274', 'tmuk00275',\n",
       "       'tmuk00276', 'tmuk00277', 'tmuk00278', 'tmuk00279', 'tmuk00282',\n",
       "       'tmuk00283', 'tmuk00284', 'tmuk00285', 'tmuk00286', 'tmuk00287',\n",
       "       'tmuk00288', 'tmuk00289', 'tmuk00290', 'tmuk00291', 'tmuk00292',\n",
       "       'tmuk00294', 'tmuk00295', 'tmuk00296', 'tmuk00297', 'tmuk00298',\n",
       "       'tmuk00299', 'tmuk00300', 'tmuk00301', 'tmuk00303', 'tmuk00304',\n",
       "       'tmuk00305', 'tmuk00306', 'tmuk00307', 'tmuk00308', 'tmuk00309',\n",
       "       'tmuk00310', 'tmuk00311', 'tmuk00312', 'tmuk00313', 'tmuk00314',\n",
       "       'tmuk00317', 'tmuk00318', 'tmuk00319', 'tmuk00320', 'tmuk00321',\n",
       "       'tmuk00322', 'tmuk00323', 'tmuk00324', 'tmuk00325', 'tmuk00326',\n",
       "       'tmuk00327', 'tmuk00328', 'tmuk00329', 'tmuk00330', 'tmuk00331',\n",
       "       'tmuk00332', 'tmuk00333', 'tmuk00334', 'tmuk00335', 'tmuk00336',\n",
       "       'tmuk00337', 'tmuk00338', 'tmuk00339', 'tmuk00340', 'tmuk00341',\n",
       "       'tmuk00342', 'tmuk00343', 'tmuk00344', 'tmuk00345', 'tmuk00346',\n",
       "       'tmuk00347', 'tmuk00348', 'tmuk00349', 'tmuk00350', 'tmuk00351',\n",
       "       'tmuk00352', 'tmuk00353', 'tmuk00354', 'tmuk00355', 'tmuk00356',\n",
       "       'tmuk00357', 'tmuk00358', 'tmuk00359', 'tmuk00360', 'tmuk00361',\n",
       "       'tmuk00362', 'tmuk00363', 'tmuk00364', 'tmuk00365', 'tmuk00366',\n",
       "       'tmuk00367', 'tmuk00368', 'tmuk00369', 'tmuk00370', 'tmuk00371',\n",
       "       'tmuk00372', 'tmuk00373', 'tmuk00374', 'tmuk00375', 'tmuk00376',\n",
       "       'tmuk00377', 'tmuk00378', 'tmuk00380', 'tmuk00381', 'tmuk00382',\n",
       "       'tmuk00383', 'tmuk00384', 'tmuk00385', 'tmuk00386', 'tmuk00387',\n",
       "       'tmuk00388', 'tmuk00389', 'tmuk00390', 'tmuk00391', 'tmuk00392',\n",
       "       'tmuk00393', 'tmuk00394', 'tmuk00395', 'tmuk00396', 'tmuk02'],\n",
       "      dtype=object)"
      ]
     },
     "execution_count": 5295,
     "metadata": {},
     "output_type": "execute_result"
    }
   ],
   "source": [
    "# Melihat nilai pada variabel\n",
    "\n",
    "df['store_address'].unique()"
   ]
  },
  {
   "cell_type": "code",
   "execution_count": 5296,
   "metadata": {},
   "outputs": [
    {
     "data": {
      "text/plain": [
       "385"
      ]
     },
     "execution_count": 5296,
     "metadata": {},
     "output_type": "execute_result"
    }
   ],
   "source": [
    "\n",
    "# Melihat berapa banyak jenis variabel yang ada\n",
    "\n",
    "len(df['store_address'].unique())"
   ]
  },
  {
   "cell_type": "code",
   "execution_count": 5297,
   "metadata": {},
   "outputs": [
    {
     "data": {
      "text/plain": [
       "array(['Warung', 'Minimarket'], dtype=object)"
      ]
     },
     "execution_count": 5297,
     "metadata": {},
     "output_type": "execute_result"
    }
   ],
   "source": [
    "# Melihat nilai pada variabel\n",
    "\n",
    "df['client_category'].unique()"
   ]
  },
  {
   "cell_type": "code",
   "execution_count": 5298,
   "metadata": {},
   "outputs": [
    {
     "data": {
      "text/plain": [
       "2"
      ]
     },
     "execution_count": 5298,
     "metadata": {},
     "output_type": "execute_result"
    }
   ],
   "source": [
    "\n",
    "# Melihat berapa banyak jenis variabel yang ada\n",
    "\n",
    "len(df['client_category'].unique())"
   ]
  },
  {
   "cell_type": "code",
   "execution_count": 5299,
   "metadata": {},
   "outputs": [
    {
     "data": {
      "text/plain": [
       "array(['TMUK 00000 TESTING', 'Kopkar PUJASERA Pasar Rebo', 'Grosir Max',\n",
       "       'Maha Mart', 'Manindo Mart', 'Taekwang', 'Galaxy Mart',\n",
       "       'TINS MART', 'MINI MART', 'NAZWA MART', 'PPA MART', 'Toko Sri',\n",
       "       'Vita Mart', 'INDAH MART', 'KAMIL MART', 'ROSANI MART',\n",
       "       'BUMDES CIKARANG', 'ALEXANDERIA STORE', 'Tomod Mitra', 'Dora Mart',\n",
       "       'African Shop', 'Javi Mart', 'Fidi Mart', 'NSA Mart',\n",
       "       'Hansay Mart', 'DM MART', 'HEMART', 'JERNIH', 'Bina Mart',\n",
       "       'KOPERASI SPTP PANTOS LOGISTICS', 'MEMBER MART', 'DOC MART',\n",
       "       '7 Mart ID', 'SANTRI MART', 'Zaza Mart', 'Ashoka Shop',\n",
       "       'IHBS MART', 'ALIT MART', 'KOFAYA', 'TOKO MANDIRI',\n",
       "       'TOKO BINTANG JAYA', 'ANISSA MART', 'GADDE\" Mart', 'YATAMA MART',\n",
       "       \"ANDI'S MART COFFEE\", 'KOPERASI PT YUTAKA MANUFACTURING',\n",
       "       'KOP PEGAWAI RSUD TARAKAN', 'AL WAFI MART', 'CAHAYA MART',\n",
       "       'BABON MART', 'KOTITAN', 'KOPKAR DIHI', 'JAYA MART SRG',\n",
       "       'NUFI MART', 'MUSLIM MART', 'Usako', 'ZAHRA MART', 'BEKASI',\n",
       "       'EKA MART', 'MJL Mart ', 'Berkah Ar Rahman ', 'JK Swalayan',\n",
       "       'FRESH KITCHEN', 'TOMOD KOPKAR TASPEN', 'Ali Mart',\n",
       "       'C84 Mini Mart', 'Hasanah Mart', 'I - MART', 'LAATANSA MART',\n",
       "       'WARUNG ANNAJAH', 'BN Mart', 'TMUK TOKO SUZAN ', 'WILMART ',\n",
       "       'TMUK QL MART', 'TOKITA MART', 'PUJA KUSUMA MART',\n",
       "       'Lucky Prambanan Mart', 'Wiguna Mart', 'EL DZAKY SHOP',\n",
       "       'KOPKAR MITRA USAHA', 'KELLY MINI MART', 'Fajar Mart',\n",
       "       'BUDI SETIA MART', 'TOMOD AMANAH', 'WAROENG BMT', 'WILMART 2',\n",
       "       'MIRA MART', 'MAKMUR MART', 'Mini Mart 31', 'MAXI MART', 'BI MART',\n",
       "       'TOMOD KPRI TIRTAMULYA', 'Toko Murah 212 Mart', 'Mandiri Mart',\n",
       "       'TOMOD 2020 MART', 'TOKO RARA', 'Sen Mart',\n",
       "       'KOPERASI MITRA SEJAHTERA', 'NCI MART', 'WARUNG SYARIAH KZA ',\n",
       "       'NETTA SHOP', 'Muslim Swalayan', 'Rumah Belanja D&R', 'ARKAI MART',\n",
       "       'ANRI MART', 'Gets Minimart', 'MITRA BELANJA', 'Ableh Mart',\n",
       "       'Bumdes karya mandiri', 'TIRTA MART', 'MJM  MART ', 'RINDU MART',\n",
       "       'Koperasi 212 Mart', 'Kop. Ponpes Darurrosyid',\n",
       "       'Kopkar Manunggal Perkasa', 'SELARAS MART', 'Koperasi P3GT',\n",
       "       'UMI MART', 'BUANA MART', 'U MART KEMBANGAN', 'U MART',\n",
       "       'TOKITA KOPERASI FTKE', 'JONUR 06 MART', \"LUCKY'S MART\",\n",
       "       'ARSY MART', '212 MART RAWA KALONG', 'SIS Mart', 'Enhai Mart',\n",
       "       'SIS Mart 2', 'TOKO KENANGA', 'Rafi Mart', 'KOPERASI STMKG',\n",
       "       '212 MART RAWA BELONG', 'TLOGOWATU MART',\n",
       "       'KOPERASI SYARIAH AMANAH MUSLIM INDONESIA', 'Mulia Mart',\n",
       "       'TUNAS JAYA MART', 'Umar & Ali Mart', 'TOMO MINIMART', '212 MART',\n",
       "       'KPU MART MART212', 'TOKO JAYAWAN', 'RS GRAHA JUANDA BEKASI',\n",
       "       'NAKASYA MART', 'DF MART', 'KITA MART', 'HANDY Mart',\n",
       "       'JAVI MART 2', 'Bumdes Motekar Kertamulya', 'BERES MART',\n",
       "       'AKHSAN MART ', 'SARUNI JAYA SWALAYAN', 'TOKO HELMI',\n",
       "       '212 Mart Jatirahayu', 'KOPKAR YUMMY', 'TION MART', 'CITOH MART',\n",
       "       'ANISA MART', 'TOMOD UNIERAMART', 'Arjun Mart', 'KOPERASI WASKITA',\n",
       "       'Toko AL FAIZ', 'RIZKI MART', 'TIGA AMANAH MINI MART', 'BIE MART',\n",
       "       'ZAM ZAM MART', 'CAHAYA513 MINI MART', 'Erwin Mart', 'TOKO MIRING',\n",
       "       'Tomod Toko M Mart', \"KING'S MART\", '212 MART BOJONG MENTENG',\n",
       "       'CHS MART', 'Toko ATHY', 'FORTRESS MART', 'BM Mart',\n",
       "       'KING MART PANJI TILAR', '212 MART BOGOR ASRI ', 'ADM MART',\n",
       "       'BELVA MANDIRI', 'IKHWAN MART', 'MUSLIM MART 2', 'TOKO GAPAMAL 2',\n",
       "       'BETHESDA MART', 'KNE MART',\n",
       "       'LABORATORIUM WIRAUSAHA PONPES IBNU ASH SHOLAH', 'TOKO IGNAY',\n",
       "       'TOKO SANTRI  ARAFAH', 'PERUMDA MART', 'ARUS MART IJO LEMOR',\n",
       "       'ARUS MART RAMAH LENEK', 'ARUS MART SUKAREMA LENEK', 'ADIA MART',\n",
       "       'BIMART', '99 MINI MARKET', 'MINIMART MEGA KUNINGAN',\n",
       "       'SODAQO PERMATA PURI', 'TMUK COZY.CO', 'eNHa Mart', 'MIZARI MART',\n",
       "       'AKA MART', 'PMI MART ',\n",
       "       'PT SWANDARU JAYA MANDIRI (KOPERASI MABES POLRI LOGISTIK)',\n",
       "       'PRIMA MART', 'Prima Mart', 'TMUK 01 ISTANA MART',\n",
       "       'ARUS MART PONPES NURUL MUHSININ', 'ROYAL MART', 'PRIMA EXPRESS',\n",
       "       'INTI MART', 'WR KOPKAR MAKARYA', 'SUNARMART', 'Topaz Mart',\n",
       "       'Alexa Mart', 'TOMOD KOPERASI PPA', 'KIND MART', 'HAPPY MART',\n",
       "       'EFRATA MART', 'MIKRO MART', 'WP MART', 'Kirana Mart',\n",
       "       'RafaThop Mart', 'MONCONGLOE MART', 'FI MART', 'JOSIKA MART',\n",
       "       'SURYA AMANAH MINI MART', 'Traya Mart', 'I  MART', 'Dame Mart',\n",
       "       'Triple A Mart', 'TOMOD UKM MART PRIMKOPPOL POLRES BOGOR',\n",
       "       'TOKO MILBOS MART', 'SUSKA MART', 'Ceria_Grosir', 'KALEI MART',\n",
       "       'TOKO NANDA', 'AULIA MART', 'MILLENIUM MM', 'Zumy Mart',\n",
       "       'RAKARAI MART', 'CENTRAMART', 'Diva Mart', 'Toko Medinarsya',\n",
       "       'GEMARIPAH MART', 'MINIMARKET SYARIAH INSAN NURUL MUHIBBIN',\n",
       "       'MINIMARKET DUA PUTRA', 'BUMDES SHOP', 'MANDIRA MART',\n",
       "       'SHELVA MART', 'HCR MART', 'Elint Mart', 'MOL MART',\n",
       "       'BUMDES MART SELAGIK', 'TOKO RICKY', 'Metro Mart', 'TOKO HEPPI',\n",
       "       'FII MART', 'Kwangrase Mart', 'LEO MART', 'BEST MART ', 'HAT MART',\n",
       "       'WIJAYA MART', 'E Mart', 'RBS Mart', 'TOKO LAILI', 'GTR MART',\n",
       "       'MRT Mart', 'RR MART', 'TMUK TAMA MART', 'CK FAMILY MART',\n",
       "       'Khd Mart', 'HE-MART', \"WYN'S CONVINIENCE\", 'Abyan Mart',\n",
       "       'SARAH MART', 'DAILY MART', 'BISMART', 'DN STORE', 'BIN ALI MART',\n",
       "       'CORDOVA MART', 'TOKO ELSA', 'ROS Mart', 'YAMart', 'ALFARUS MART',\n",
       "       'SABILAL MART', 'J-MART', 'Domini Mart', 'TOKO ANDRA ALIT',\n",
       "       'TMUK LRT GATEWAY', 'AK MART', 'SR MART', 'Volion Mart', 'AN MART',\n",
       "       'ANDEWE', 'TOMOD ALENZO', 'TOMOD BUMDES ASA MANDIRI', 'COSMO MART',\n",
       "       'SURYA Mart', 'LULU MART', 'BETA MART', 'RR MART 1', 'K7MART',\n",
       "       'TOKO MITRA AFRA', 'DALWA MART', 'COKRO 4 MART', 'FAHMA AMRT',\n",
       "       'SHREE MART', 'GA MART', 'MAHADEWA MART', 'JAS 26 MART',\n",
       "       'KOPERASI KARYAWAN SEJAHTERA ANAR', 'SMK GOLDEN', 'FUJI MART',\n",
       "       'SWALAYAN AFIAT KOPKAR RSKD', 'ADHYAKSA MART', 'ECHO',\n",
       "       'Detha Mart', 'PT. SAUDAGAR DUTA GREENINDO', 'TOMOD BETHESDA',\n",
       "       'KOPERASI KONSUMEN SINERGI GERAK BERSAMA', 'MEGAREZKY MART',\n",
       "       'TMUK 01 JAMBORE MART', 'EXPRESS', 'FLAMBOYAN MART', 'DaffaMart',\n",
       "       'KOPERASI KERTASAMA', 'T-MART', 'SMART', 'VIKENZ MART',\n",
       "       'Fafa Mart', 'SABISA MART', \"D'FAMILY MART\", 'MADANI MART',\n",
       "       'TOKO SEMBAKO H JAJA', 'PK BDP SMK NEGERI 1 KOTA SERANG',\n",
       "       'MM KOP PUSDIKLAT', 'SAYANG MART', 'AAK MART', 'HABIBI MART',\n",
       "       'MANG PEDEKA MART', 'KORBHAMA MART', 'GUYS MY EATERY HOME',\n",
       "       'SNACK MART SMKN PP PELAIHARI', 'TOKO DIVA WIGUNA', 'RUMART',\n",
       "       'KOPKAR BERKAH SWADAYA MANDIRI', 'TOKO SEMOGA BERKAH',\n",
       "       'TMUK 01 AL MADINAH MART', 'FAFA MART', 'MARKII MART', 'TREE MART',\n",
       "       'Fresh Mart', 'SMATA MART', 'Jasmine Mart', '3R MART', 'MiniFresh',\n",
       "       'JEEMART', 'TOKO AMAT', 'AL KAUTSAR MART', 'MM BERKAT',\n",
       "       'UD RIZKI BAROKAH', 'RBT MART', 'TOKO BERKAH', \"LYN'S MART\",\n",
       "       'MINI MARTT', 'SHANZA MART', 'Lythecia Mart', 'MULTAZAM',\n",
       "       'Fahmil quran Mart', 'KOPERASI BEA CUKAI SOEKARNO HATTA',\n",
       "       'TOKO BERKAHH', 'R&R MART', 'HIQMAH STORE', 'SEJAHTERA MART',\n",
       "       'Mystery Shop', 'VIRENDRA MART', 'PROFMART', 'PRIME MART LGERC',\n",
       "       'ASRI MART', 'KOTITAN MART  2', 'CEMARA MART', 'SS MART',\n",
       "       'ODES MART', 'KOMINFO MART', 'DEMO PRODUK'], dtype=object)"
      ]
     },
     "execution_count": 5299,
     "metadata": {},
     "output_type": "execute_result"
    }
   ],
   "source": [
    "# Melihat nilai pada variabel\n",
    "\n",
    "df['store_name'].unique()"
   ]
  },
  {
   "cell_type": "code",
   "execution_count": 5300,
   "metadata": {},
   "outputs": [
    {
     "data": {
      "text/plain": [
       "385"
      ]
     },
     "execution_count": 5300,
     "metadata": {},
     "output_type": "execute_result"
    }
   ],
   "source": [
    "\n",
    "# Melihat berapa banyak jenis variabel yang ada\n",
    "\n",
    "len(df['store_name'].unique())"
   ]
  },
  {
   "cell_type": "markdown",
   "metadata": {},
   "source": [
    "Kita dapat melihat ada 6 kategori label dan 1 integer pada variabel `id`, `first_name`, `last_name`, `reg_date`, `ref_grocery_store_code`, `store_address` dan `store_name` bukan data yang bisa digunakan, karena mengandung data yang sangat unik"
   ]
  },
  {
   "cell_type": "markdown",
   "metadata": {},
   "source": [
    "### Menghilangkan variabel `id`, `first_name`, `last_name`, `reg_date`, `ref_grocery_store_code`, `store_address` dan `store_name` dari dataset"
   ]
  },
  {
   "cell_type": "code",
   "execution_count": 5301,
   "metadata": {},
   "outputs": [],
   "source": [
    "df.drop(['id',  'first_name', 'last_name', 'reg_date', 'ref_grocery_store_code', 'store_address', 'store_name'], axis=1, inplace=True)"
   ]
  },
  {
   "cell_type": "markdown",
   "metadata": {},
   "source": [
    "### Melihat rangkuman dataset kembali"
   ]
  },
  {
   "cell_type": "code",
   "execution_count": 5302,
   "metadata": {},
   "outputs": [
    {
     "name": "stdout",
     "output_type": "stream",
     "text": [
      "<class 'pandas.core.frame.DataFrame'>\n",
      "RangeIndex: 385 entries, 0 to 384\n",
      "Data columns (total 6 columns):\n",
      " #   Column                            Non-Null Count  Dtype \n",
      "---  ------                            --------------  ----- \n",
      " 0   days_since_registration           385 non-null    int64 \n",
      " 1   total_count_transaction           385 non-null    int64 \n",
      " 2   total_amount_transaction          385 non-null    int64 \n",
      " 3   client_category                   385 non-null    object\n",
      " 4   total_varian_product              385 non-null    int64 \n",
      " 5   total_varian_product_transaction  385 non-null    int64 \n",
      "dtypes: int64(5), object(1)\n",
      "memory usage: 18.2+ KB\n"
     ]
    }
   ],
   "source": [
    "df.info()"
   ]
  },
  {
   "cell_type": "markdown",
   "metadata": {},
   "source": [
    "### Melihat dataset kembali"
   ]
  },
  {
   "cell_type": "code",
   "execution_count": 5303,
   "metadata": {},
   "outputs": [
    {
     "data": {
      "text/html": [
       "<div>\n",
       "<style scoped>\n",
       "    .dataframe tbody tr th:only-of-type {\n",
       "        vertical-align: middle;\n",
       "    }\n",
       "\n",
       "    .dataframe tbody tr th {\n",
       "        vertical-align: top;\n",
       "    }\n",
       "\n",
       "    .dataframe thead th {\n",
       "        text-align: right;\n",
       "    }\n",
       "</style>\n",
       "<table border=\"1\" class=\"dataframe\">\n",
       "  <thead>\n",
       "    <tr style=\"text-align: right;\">\n",
       "      <th></th>\n",
       "      <th>days_since_registration</th>\n",
       "      <th>total_count_transaction</th>\n",
       "      <th>total_amount_transaction</th>\n",
       "      <th>client_category</th>\n",
       "      <th>total_varian_product</th>\n",
       "      <th>total_varian_product_transaction</th>\n",
       "    </tr>\n",
       "  </thead>\n",
       "  <tbody>\n",
       "    <tr>\n",
       "      <th>0</th>\n",
       "      <td>1499</td>\n",
       "      <td>1070</td>\n",
       "      <td>85625901</td>\n",
       "      <td>Warung</td>\n",
       "      <td>275</td>\n",
       "      <td>1070</td>\n",
       "    </tr>\n",
       "    <tr>\n",
       "      <th>1</th>\n",
       "      <td>1499</td>\n",
       "      <td>417587</td>\n",
       "      <td>5945445071</td>\n",
       "      <td>Minimarket</td>\n",
       "      <td>1160</td>\n",
       "      <td>417587</td>\n",
       "    </tr>\n",
       "    <tr>\n",
       "      <th>2</th>\n",
       "      <td>1477</td>\n",
       "      <td>15773</td>\n",
       "      <td>1114582043</td>\n",
       "      <td>Minimarket</td>\n",
       "      <td>1086</td>\n",
       "      <td>15773</td>\n",
       "    </tr>\n",
       "    <tr>\n",
       "      <th>3</th>\n",
       "      <td>1472</td>\n",
       "      <td>57608</td>\n",
       "      <td>10788938918</td>\n",
       "      <td>Minimarket</td>\n",
       "      <td>3456</td>\n",
       "      <td>57608</td>\n",
       "    </tr>\n",
       "    <tr>\n",
       "      <th>4</th>\n",
       "      <td>1470</td>\n",
       "      <td>460382</td>\n",
       "      <td>24291902672</td>\n",
       "      <td>Minimarket</td>\n",
       "      <td>4793</td>\n",
       "      <td>460382</td>\n",
       "    </tr>\n",
       "  </tbody>\n",
       "</table>\n",
       "</div>"
      ],
      "text/plain": [
       "   days_since_registration  total_count_transaction  total_amount_transaction  \\\n",
       "0                     1499                     1070                  85625901   \n",
       "1                     1499                   417587                5945445071   \n",
       "2                     1477                    15773                1114582043   \n",
       "3                     1472                    57608               10788938918   \n",
       "4                     1470                   460382               24291902672   \n",
       "\n",
       "  client_category  total_varian_product  total_varian_product_transaction  \n",
       "0          Warung                   275                              1070  \n",
       "1      Minimarket                  1160                            417587  \n",
       "2      Minimarket                  1086                             15773  \n",
       "3      Minimarket                  3456                             57608  \n",
       "4      Minimarket                  4793                            460382  "
      ]
     },
     "execution_count": 5303,
     "metadata": {},
     "output_type": "execute_result"
    }
   ],
   "source": [
    "df.head()"
   ]
  },
  {
   "cell_type": "markdown",
   "metadata": {},
   "source": [
    "Kita dapat melihat bahwa ada 1 kolom non-numerik `client_category` dalam dataset. Saya akan mengubahnya menjadi bilangan bulat yang setara."
   ]
  },
  {
   "cell_type": "markdown",
   "metadata": {},
   "source": [
    "## 10. Deklarasikan vektor fitur dan target variabel"
   ]
  },
  {
   "cell_type": "code",
   "execution_count": 5304,
   "metadata": {},
   "outputs": [],
   "source": [
    "X = df\n",
    "\n",
    "y = df['client_category']"
   ]
  },
  {
   "cell_type": "markdown",
   "metadata": {},
   "source": [
    "## 11. Ubah variabel `client_category` menjadi bilangan bulat"
   ]
  },
  {
   "cell_type": "code",
   "execution_count": 5305,
   "metadata": {},
   "outputs": [],
   "source": [
    "from sklearn.preprocessing import LabelEncoder\n",
    "\n",
    "le = LabelEncoder()\n",
    "\n",
    "X['client_category'] = le.fit_transform(X['client_category'])\n",
    "\n",
    "y = le.transform(y)"
   ]
  },
  {
   "cell_type": "markdown",
   "metadata": {},
   "source": [
    "### Melihat rangkuman X"
   ]
  },
  {
   "cell_type": "code",
   "execution_count": 5306,
   "metadata": {},
   "outputs": [
    {
     "name": "stdout",
     "output_type": "stream",
     "text": [
      "<class 'pandas.core.frame.DataFrame'>\n",
      "RangeIndex: 385 entries, 0 to 384\n",
      "Data columns (total 6 columns):\n",
      " #   Column                            Non-Null Count  Dtype\n",
      "---  ------                            --------------  -----\n",
      " 0   days_since_registration           385 non-null    int64\n",
      " 1   total_count_transaction           385 non-null    int64\n",
      " 2   total_amount_transaction          385 non-null    int64\n",
      " 3   client_category                   385 non-null    int64\n",
      " 4   total_varian_product              385 non-null    int64\n",
      " 5   total_varian_product_transaction  385 non-null    int64\n",
      "dtypes: int64(6)\n",
      "memory usage: 18.2 KB\n"
     ]
    }
   ],
   "source": [
    "X.info()"
   ]
  },
  {
   "cell_type": "markdown",
   "metadata": {},
   "source": [
    "### Melihat dataset X"
   ]
  },
  {
   "cell_type": "code",
   "execution_count": 5307,
   "metadata": {},
   "outputs": [
    {
     "data": {
      "text/html": [
       "<div>\n",
       "<style scoped>\n",
       "    .dataframe tbody tr th:only-of-type {\n",
       "        vertical-align: middle;\n",
       "    }\n",
       "\n",
       "    .dataframe tbody tr th {\n",
       "        vertical-align: top;\n",
       "    }\n",
       "\n",
       "    .dataframe thead th {\n",
       "        text-align: right;\n",
       "    }\n",
       "</style>\n",
       "<table border=\"1\" class=\"dataframe\">\n",
       "  <thead>\n",
       "    <tr style=\"text-align: right;\">\n",
       "      <th></th>\n",
       "      <th>days_since_registration</th>\n",
       "      <th>total_count_transaction</th>\n",
       "      <th>total_amount_transaction</th>\n",
       "      <th>client_category</th>\n",
       "      <th>total_varian_product</th>\n",
       "      <th>total_varian_product_transaction</th>\n",
       "    </tr>\n",
       "  </thead>\n",
       "  <tbody>\n",
       "    <tr>\n",
       "      <th>0</th>\n",
       "      <td>1499</td>\n",
       "      <td>1070</td>\n",
       "      <td>85625901</td>\n",
       "      <td>1</td>\n",
       "      <td>275</td>\n",
       "      <td>1070</td>\n",
       "    </tr>\n",
       "    <tr>\n",
       "      <th>1</th>\n",
       "      <td>1499</td>\n",
       "      <td>417587</td>\n",
       "      <td>5945445071</td>\n",
       "      <td>0</td>\n",
       "      <td>1160</td>\n",
       "      <td>417587</td>\n",
       "    </tr>\n",
       "    <tr>\n",
       "      <th>2</th>\n",
       "      <td>1477</td>\n",
       "      <td>15773</td>\n",
       "      <td>1114582043</td>\n",
       "      <td>0</td>\n",
       "      <td>1086</td>\n",
       "      <td>15773</td>\n",
       "    </tr>\n",
       "    <tr>\n",
       "      <th>3</th>\n",
       "      <td>1472</td>\n",
       "      <td>57608</td>\n",
       "      <td>10788938918</td>\n",
       "      <td>0</td>\n",
       "      <td>3456</td>\n",
       "      <td>57608</td>\n",
       "    </tr>\n",
       "    <tr>\n",
       "      <th>4</th>\n",
       "      <td>1470</td>\n",
       "      <td>460382</td>\n",
       "      <td>24291902672</td>\n",
       "      <td>0</td>\n",
       "      <td>4793</td>\n",
       "      <td>460382</td>\n",
       "    </tr>\n",
       "  </tbody>\n",
       "</table>\n",
       "</div>"
      ],
      "text/plain": [
       "   days_since_registration  total_count_transaction  total_amount_transaction  \\\n",
       "0                     1499                     1070                  85625901   \n",
       "1                     1499                   417587                5945445071   \n",
       "2                     1477                    15773                1114582043   \n",
       "3                     1472                    57608               10788938918   \n",
       "4                     1470                   460382               24291902672   \n",
       "\n",
       "   client_category  total_varian_product  total_varian_product_transaction  \n",
       "0                1                   275                              1070  \n",
       "1                0                  1160                            417587  \n",
       "2                0                  1086                             15773  \n",
       "3                0                  3456                             57608  \n",
       "4                0                  4793                            460382  "
      ]
     },
     "execution_count": 5307,
     "metadata": {},
     "output_type": "execute_result"
    }
   ],
   "source": [
    "X.head()"
   ]
  },
  {
   "cell_type": "code",
   "execution_count": 5308,
   "metadata": {},
   "outputs": [
    {
     "data": {
      "image/png": "[encoded data removed]",
      "text/plain": [
       "<Figure size 1500x600 with 5 Axes>"
      ]
     },
     "metadata": {},
     "output_type": "display_data"
    }
   ],
   "source": [
    "plt.figure(1 , figsize = (15 , 6))\n",
    "n = 0 \n",
    "for x in ['total_varian_product', 'total_varian_product_transaction', 'total_count_transaction' , 'total_amount_transaction', 'client_category']:\n",
    "    n += 1\n",
    "    plt.subplot(1 , 5 , n)\n",
    "    plt.subplots_adjust(hspace = 0.5 , wspace = 0.5)\n",
    "    sns.distplot(X[x] , bins = 15)\n",
    "    plt.title('Distplot of {}'.format(x))\n",
    "plt.show()"
   ]
  },
  {
   "cell_type": "code",
   "execution_count": 5309,
   "metadata": {},
   "outputs": [
    {
     "data": {
      "text/plain": [
       "<seaborn.axisgrid.PairGrid at 0x34669bd50>"
      ]
     },
     "execution_count": 5309,
     "metadata": {},
     "output_type": "execute_result"
    },
    {
     "data": {
      "image/png": "[encoded data removed]",
      "text/plain": [
       "<Figure size 1117.86x1000 with 20 Axes>"
      ]
     },
     "metadata": {},
     "output_type": "display_data"
    }
   ],
   "source": [
    "# for x in ['total_count_transaction' , 'total_amount_transaction', 'total_varian_product', 'total_varian_product_transaction', 'client_category']:\n",
    "\n",
    "sns.pairplot(X, vars = ['total_varian_product', 'total_varian_product_transaction', 'total_count_transaction' , 'total_amount_transaction'], hue = \"client_category\")"
   ]
  },
  {
   "cell_type": "markdown",
   "metadata": {},
   "source": [
    "## 12. Fitur Penskalaan"
   ]
  },
  {
   "cell_type": "code",
   "execution_count": 5310,
   "metadata": {},
   "outputs": [],
   "source": [
    "cols = X.columns"
   ]
  },
  {
   "cell_type": "code",
   "execution_count": 5311,
   "metadata": {},
   "outputs": [],
   "source": [
    "from sklearn.preprocessing import MinMaxScaler\n",
    "\n",
    "ms = MinMaxScaler()\n",
    "\n",
    "X = ms.fit_transform(X)"
   ]
  },
  {
   "cell_type": "code",
   "execution_count": 5312,
   "metadata": {},
   "outputs": [],
   "source": [
    "X = pd.DataFrame(X, columns=[cols])"
   ]
  },
  {
   "cell_type": "code",
   "execution_count": 5313,
   "metadata": {},
   "outputs": [
    {
     "data": {
      "text/html": [
       "<div>\n",
       "<style scoped>\n",
       "    .dataframe tbody tr th:only-of-type {\n",
       "        vertical-align: middle;\n",
       "    }\n",
       "\n",
       "    .dataframe tbody tr th {\n",
       "        vertical-align: top;\n",
       "    }\n",
       "\n",
       "    .dataframe thead tr th {\n",
       "        text-align: left;\n",
       "    }\n",
       "</style>\n",
       "<table border=\"1\" class=\"dataframe\">\n",
       "  <thead>\n",
       "    <tr>\n",
       "      <th></th>\n",
       "      <th>days_since_registration</th>\n",
       "      <th>total_count_transaction</th>\n",
       "      <th>total_amount_transaction</th>\n",
       "      <th>client_category</th>\n",
       "      <th>total_varian_product</th>\n",
       "      <th>total_varian_product_transaction</th>\n",
       "    </tr>\n",
       "  </thead>\n",
       "  <tbody>\n",
       "    <tr>\n",
       "      <th>0</th>\n",
       "      <td>1.000000</td>\n",
       "      <td>0.001123</td>\n",
       "      <td>3.616387e-08</td>\n",
       "      <td>1.0</td>\n",
       "      <td>0.024732</td>\n",
       "      <td>0.001123</td>\n",
       "    </tr>\n",
       "    <tr>\n",
       "      <th>1</th>\n",
       "      <td>1.000000</td>\n",
       "      <td>0.438233</td>\n",
       "      <td>2.511043e-06</td>\n",
       "      <td>0.0</td>\n",
       "      <td>0.104326</td>\n",
       "      <td>0.438228</td>\n",
       "    </tr>\n",
       "    <tr>\n",
       "      <th>2</th>\n",
       "      <td>0.985324</td>\n",
       "      <td>0.016553</td>\n",
       "      <td>4.707408e-07</td>\n",
       "      <td>0.0</td>\n",
       "      <td>0.097671</td>\n",
       "      <td>0.016553</td>\n",
       "    </tr>\n",
       "    <tr>\n",
       "      <th>3</th>\n",
       "      <td>0.981988</td>\n",
       "      <td>0.060456</td>\n",
       "      <td>4.556680e-06</td>\n",
       "      <td>0.0</td>\n",
       "      <td>0.310819</td>\n",
       "      <td>0.060455</td>\n",
       "    </tr>\n",
       "    <tr>\n",
       "      <th>4</th>\n",
       "      <td>0.980654</td>\n",
       "      <td>0.483143</td>\n",
       "      <td>1.025962e-05</td>\n",
       "      <td>0.0</td>\n",
       "      <td>0.431064</td>\n",
       "      <td>0.483138</td>\n",
       "    </tr>\n",
       "  </tbody>\n",
       "</table>\n",
       "</div>"
      ],
      "text/plain": [
       "  days_since_registration total_count_transaction total_amount_transaction  \\\n",
       "0                1.000000                0.001123             3.616387e-08   \n",
       "1                1.000000                0.438233             2.511043e-06   \n",
       "2                0.985324                0.016553             4.707408e-07   \n",
       "3                0.981988                0.060456             4.556680e-06   \n",
       "4                0.980654                0.483143             1.025962e-05   \n",
       "\n",
       "  client_category total_varian_product total_varian_product_transaction  \n",
       "0             1.0             0.024732                         0.001123  \n",
       "1             0.0             0.104326                         0.438228  \n",
       "2             0.0             0.097671                         0.016553  \n",
       "3             0.0             0.310819                         0.060455  \n",
       "4             0.0             0.431064                         0.483138  "
      ]
     },
     "execution_count": 5313,
     "metadata": {},
     "output_type": "execute_result"
    }
   ],
   "source": [
    "X.head()"
   ]
  },
  {
   "cell_type": "markdown",
   "metadata": {},
   "source": [
    "## 13. K-Means model dengan 4 clusters"
   ]
  },
  {
   "cell_type": "code",
   "execution_count": 5314,
   "metadata": {},
   "outputs": [
    {
     "data": {
      "text/html": [
       "<style>#sk-container-id-75 {\n",
       "  /* Definition of color scheme common for light and dark mode */\n",
       "  --sklearn-color-text: black;\n",
       "  --sklearn-color-line: gray;\n",
       "  /* Definition of color scheme for unfitted estimators */\n",
       "  --sklearn-color-unfitted-level-0: #fff5e6;\n",
       "  --sklearn-color-unfitted-level-1: #f6e4d2;\n",
       "  --sklearn-color-unfitted-level-2: #ffe0b3;\n",
       "  --sklearn-color-unfitted-level-3: chocolate;\n",
       "  /* Definition of color scheme for fitted estimators */\n",
       "  --sklearn-color-fitted-level-0: #f0f8ff;\n",
       "  --sklearn-color-fitted-level-1: #d4ebff;\n",
       "  --sklearn-color-fitted-level-2: #b3dbfd;\n",
       "  --sklearn-color-fitted-level-3: cornflowerblue;\n",
       "\n",
       "  /* Specific color for light theme */\n",
       "  --sklearn-color-text-on-default-background: var(--sg-text-color, var(--theme-code-foreground, var(--jp-content-font-color1, black)));\n",
       "  --sklearn-color-background: var(--sg-background-color, var(--theme-background, var(--jp-layout-color0, white)));\n",
       "  --sklearn-color-border-box: var(--sg-text-color, var(--theme-code-foreground, var(--jp-content-font-color1, black)));\n",
       "  --sklearn-color-icon: #696969;\n",
       "\n",
       "  @media (prefers-color-scheme: dark) {\n",
       "    /* Redefinition of color scheme for dark theme */\n",
       "    --sklearn-color-text-on-default-background: var(--sg-text-color, var(--theme-code-foreground, var(--jp-content-font-color1, white)));\n",
       "    --sklearn-color-background: var(--sg-background-color, var(--theme-background, var(--jp-layout-color0, #111)));\n",
       "    --sklearn-color-border-box: var(--sg-text-color, var(--theme-code-foreground, var(--jp-content-font-color1, white)));\n",
       "    --sklearn-color-icon: #878787;\n",
       "  }\n",
       "}\n",
       "\n",
       "#sk-container-id-75 {\n",
       "  color: var(--sklearn-color-text);\n",
       "}\n",
       "\n",
       "#sk-container-id-75 pre {\n",
       "  padding: 0;\n",
       "}\n",
       "\n",
       "#sk-container-id-75 input.sk-hidden--visually {\n",
       "  border: 0;\n",
       "  clip: rect(1px 1px 1px 1px);\n",
       "  clip: rect(1px, 1px, 1px, 1px);\n",
       "  height: 1px;\n",
       "  margin: -1px;\n",
       "  overflow: hidden;\n",
       "  padding: 0;\n",
       "  position: absolute;\n",
       "  width: 1px;\n",
       "}\n",
       "\n",
       "#sk-container-id-75 div.sk-dashed-wrapped {\n",
       "  border: 1px dashed var(--sklearn-color-line);\n",
       "  margin: 0 0.4em 0.5em 0.4em;\n",
       "  box-sizing: border-box;\n",
       "  padding-bottom: 0.4em;\n",
       "  background-color: var(--sklearn-color-background);\n",
       "}\n",
       "\n",
       "#sk-container-id-75 div.sk-container {\n",
       "  /* jupyter's `normalize.less` sets `[hidden] { display: none; }`\n",
       "     but bootstrap.min.css set `[hidden] { display: none !important; }`\n",
       "     so we also need the `!important` here to be able to override the\n",
       "     default hidden behavior on the sphinx rendered scikit-learn.org.\n",
       "     See: https://github.com/scikit-learn/scikit-learn/issues/21755 */\n",
       "  display: inline-block !important;\n",
       "  position: relative;\n",
       "}\n",
       "\n",
       "#sk-container-id-75 div.sk-text-repr-fallback {\n",
       "  display: none;\n",
       "}\n",
       "\n",
       "div.sk-parallel-item,\n",
       "div.sk-serial,\n",
       "div.sk-item {\n",
       "  /* draw centered vertical line to link estimators */\n",
       "  background-image: linear-gradient(var(--sklearn-color-text-on-default-background), var(--sklearn-color-text-on-default-background));\n",
       "  background-size: 2px 100%;\n",
       "  background-repeat: no-repeat;\n",
       "  background-position: center center;\n",
       "}\n",
       "\n",
       "/* Parallel-specific style estimator block */\n",
       "\n",
       "#sk-container-id-75 div.sk-parallel-item::after {\n",
       "  content: \"\";\n",
       "  width: 100%;\n",
       "  border-bottom: 2px solid var(--sklearn-color-text-on-default-background);\n",
       "  flex-grow: 1;\n",
       "}\n",
       "\n",
       "#sk-container-id-75 div.sk-parallel {\n",
       "  display: flex;\n",
       "  align-items: stretch;\n",
       "  justify-content: center;\n",
       "  background-color: var(--sklearn-color-background);\n",
       "  position: relative;\n",
       "}\n",
       "\n",
       "#sk-container-id-75 div.sk-parallel-item {\n",
       "  display: flex;\n",
       "  flex-direction: column;\n",
       "}\n",
       "\n",
       "#sk-container-id-75 div.sk-parallel-item:first-child::after {\n",
       "  align-self: flex-end;\n",
       "  width: 50%;\n",
       "}\n",
       "\n",
       "#sk-container-id-75 div.sk-parallel-item:last-child::after {\n",
       "  align-self: flex-start;\n",
       "  width: 50%;\n",
       "}\n",
       "\n",
       "#sk-container-id-75 div.sk-parallel-item:only-child::after {\n",
       "  width: 0;\n",
       "}\n",
       "\n",
       "/* Serial-specific style estimator block */\n",
       "\n",
       "#sk-container-id-75 div.sk-serial {\n",
       "  display: flex;\n",
       "  flex-direction: column;\n",
       "  align-items: center;\n",
       "  background-color: var(--sklearn-color-background);\n",
       "  padding-right: 1em;\n",
       "  padding-left: 1em;\n",
       "}\n",
       "\n",
       "\n",
       "/* Toggleable style: style used for estimator/Pipeline/ColumnTransformer box that is\n",
       "clickable and can be expanded/collapsed.\n",
       "- Pipeline and ColumnTransformer use this feature and define the default style\n",
       "- Estimators will overwrite some part of the style using the `sk-estimator` class\n",
       "*/\n",
       "\n",
       "/* Pipeline and ColumnTransformer style (default) */\n",
       "\n",
       "#sk-container-id-75 div.sk-toggleable {\n",
       "  /* Default theme specific background. It is overwritten whether we have a\n",
       "  specific estimator or a Pipeline/ColumnTransformer */\n",
       "  background-color: var(--sklearn-color-background);\n",
       "}\n",
       "\n",
       "/* Toggleable label */\n",
       "#sk-container-id-75 label.sk-toggleable__label {\n",
       "  cursor: pointer;\n",
       "  display: block;\n",
       "  width: 100%;\n",
       "  margin-bottom: 0;\n",
       "  padding: 0.5em;\n",
       "  box-sizing: border-box;\n",
       "  text-align: center;\n",
       "}\n",
       "\n",
       "#sk-container-id-75 label.sk-toggleable__label-arrow:before {\n",
       "  /* Arrow on the left of the label */\n",
       "  content: \"▸\";\n",
       "  float: left;\n",
       "  margin-right: 0.25em;\n",
       "  color: var(--sklearn-color-icon);\n",
       "}\n",
       "\n",
       "#sk-container-id-75 label.sk-toggleable__label-arrow:hover:before {\n",
       "  color: var(--sklearn-color-text);\n",
       "}\n",
       "\n",
       "/* Toggleable content - dropdown */\n",
       "\n",
       "#sk-container-id-75 div.sk-toggleable__content {\n",
       "  max-height: 0;\n",
       "  max-width: 0;\n",
       "  overflow: hidden;\n",
       "  text-align: left;\n",
       "  /* unfitted */\n",
       "  background-color: var(--sklearn-color-unfitted-level-0);\n",
       "}\n",
       "\n",
       "#sk-container-id-75 div.sk-toggleable__content.fitted {\n",
       "  /* fitted */\n",
       "  background-color: var(--sklearn-color-fitted-level-0);\n",
       "}\n",
       "\n",
       "#sk-container-id-75 div.sk-toggleable__content pre {\n",
       "  margin: 0.2em;\n",
       "  border-radius: 0.25em;\n",
       "  color: var(--sklearn-color-text);\n",
       "  /* unfitted */\n",
       "  background-color: var(--sklearn-color-unfitted-level-0);\n",
       "}\n",
       "\n",
       "#sk-container-id-75 div.sk-toggleable__content.fitted pre {\n",
       "  /* unfitted */\n",
       "  background-color: var(--sklearn-color-fitted-level-0);\n",
       "}\n",
       "\n",
       "#sk-container-id-75 input.sk-toggleable__control:checked~div.sk-toggleable__content {\n",
       "  /* Expand drop-down */\n",
       "  max-height: 200px;\n",
       "  max-width: 100%;\n",
       "  overflow: auto;\n",
       "}\n",
       "\n",
       "#sk-container-id-75 input.sk-toggleable__control:checked~label.sk-toggleable__label-arrow:before {\n",
       "  content: \"▾\";\n",
       "}\n",
       "\n",
       "/* Pipeline/ColumnTransformer-specific style */\n",
       "\n",
       "#sk-container-id-75 div.sk-label input.sk-toggleable__control:checked~label.sk-toggleable__label {\n",
       "  color: var(--sklearn-color-text);\n",
       "  background-color: var(--sklearn-color-unfitted-level-2);\n",
       "}\n",
       "\n",
       "#sk-container-id-75 div.sk-label.fitted input.sk-toggleable__control:checked~label.sk-toggleable__label {\n",
       "  background-color: var(--sklearn-color-fitted-level-2);\n",
       "}\n",
       "\n",
       "/* Estimator-specific style */\n",
       "\n",
       "/* Colorize estimator box */\n",
       "#sk-container-id-75 div.sk-estimator input.sk-toggleable__control:checked~label.sk-toggleable__label {\n",
       "  /* unfitted */\n",
       "  background-color: var(--sklearn-color-unfitted-level-2);\n",
       "}\n",
       "\n",
       "#sk-container-id-75 div.sk-estimator.fitted input.sk-toggleable__control:checked~label.sk-toggleable__label {\n",
       "  /* fitted */\n",
       "  background-color: var(--sklearn-color-fitted-level-2);\n",
       "}\n",
       "\n",
       "#sk-container-id-75 div.sk-label label.sk-toggleable__label,\n",
       "#sk-container-id-75 div.sk-label label {\n",
       "  /* The background is the default theme color */\n",
       "  color: var(--sklearn-color-text-on-default-background);\n",
       "}\n",
       "\n",
       "/* On hover, darken the color of the background */\n",
       "#sk-container-id-75 div.sk-label:hover label.sk-toggleable__label {\n",
       "  color: var(--sklearn-color-text);\n",
       "  background-color: var(--sklearn-color-unfitted-level-2);\n",
       "}\n",
       "\n",
       "/* Label box, darken color on hover, fitted */\n",
       "#sk-container-id-75 div.sk-label.fitted:hover label.sk-toggleable__label.fitted {\n",
       "  color: var(--sklearn-color-text);\n",
       "  background-color: var(--sklearn-color-fitted-level-2);\n",
       "}\n",
       "\n",
       "/* Estimator label */\n",
       "\n",
       "#sk-container-id-75 div.sk-label label {\n",
       "  font-family: monospace;\n",
       "  font-weight: bold;\n",
       "  display: inline-block;\n",
       "  line-height: 1.2em;\n",
       "}\n",
       "\n",
       "#sk-container-id-75 div.sk-label-container {\n",
       "  text-align: center;\n",
       "}\n",
       "\n",
       "/* Estimator-specific */\n",
       "#sk-container-id-75 div.sk-estimator {\n",
       "  font-family: monospace;\n",
       "  border: 1px dotted var(--sklearn-color-border-box);\n",
       "  border-radius: 0.25em;\n",
       "  box-sizing: border-box;\n",
       "  margin-bottom: 0.5em;\n",
       "  /* unfitted */\n",
       "  background-color: var(--sklearn-color-unfitted-level-0);\n",
       "}\n",
       "\n",
       "#sk-container-id-75 div.sk-estimator.fitted {\n",
       "  /* fitted */\n",
       "  background-color: var(--sklearn-color-fitted-level-0);\n",
       "}\n",
       "\n",
       "/* on hover */\n",
       "#sk-container-id-75 div.sk-estimator:hover {\n",
       "  /* unfitted */\n",
       "  background-color: var(--sklearn-color-unfitted-level-2);\n",
       "}\n",
       "\n",
       "#sk-container-id-75 div.sk-estimator.fitted:hover {\n",
       "  /* fitted */\n",
       "  background-color: var(--sklearn-color-fitted-level-2);\n",
       "}\n",
       "\n",
       "/* Specification for estimator info (e.g. \"i\" and \"?\") */\n",
       "\n",
       "/* Common style for \"i\" and \"?\" */\n",
       "\n",
       ".sk-estimator-doc-link,\n",
       "a:link.sk-estimator-doc-link,\n",
       "a:visited.sk-estimator-doc-link {\n",
       "  float: right;\n",
       "  font-size: smaller;\n",
       "  line-height: 1em;\n",
       "  font-family: monospace;\n",
       "  background-color: var(--sklearn-color-background);\n",
       "  border-radius: 1em;\n",
       "  height: 1em;\n",
       "  width: 1em;\n",
       "  text-decoration: none !important;\n",
       "  margin-left: 1ex;\n",
       "  /* unfitted */\n",
       "  border: var(--sklearn-color-unfitted-level-1) 1pt solid;\n",
       "  color: var(--sklearn-color-unfitted-level-1);\n",
       "}\n",
       "\n",
       ".sk-estimator-doc-link.fitted,\n",
       "a:link.sk-estimator-doc-link.fitted,\n",
       "a:visited.sk-estimator-doc-link.fitted {\n",
       "  /* fitted */\n",
       "  border: var(--sklearn-color-fitted-level-1) 1pt solid;\n",
       "  color: var(--sklearn-color-fitted-level-1);\n",
       "}\n",
       "\n",
       "/* On hover */\n",
       "div.sk-estimator:hover .sk-estimator-doc-link:hover,\n",
       ".sk-estimator-doc-link:hover,\n",
       "div.sk-label-container:hover .sk-estimator-doc-link:hover,\n",
       ".sk-estimator-doc-link:hover {\n",
       "  /* unfitted */\n",
       "  background-color: var(--sklearn-color-unfitted-level-3);\n",
       "  color: var(--sklearn-color-background);\n",
       "  text-decoration: none;\n",
       "}\n",
       "\n",
       "div.sk-estimator.fitted:hover .sk-estimator-doc-link.fitted:hover,\n",
       ".sk-estimator-doc-link.fitted:hover,\n",
       "div.sk-label-container:hover .sk-estimator-doc-link.fitted:hover,\n",
       ".sk-estimator-doc-link.fitted:hover {\n",
       "  /* fitted */\n",
       "  background-color: var(--sklearn-color-fitted-level-3);\n",
       "  color: var(--sklearn-color-background);\n",
       "  text-decoration: none;\n",
       "}\n",
       "\n",
       "/* Span, style for the box shown on hovering the info icon */\n",
       ".sk-estimator-doc-link span {\n",
       "  display: none;\n",
       "  z-index: 9999;\n",
       "  position: relative;\n",
       "  font-weight: normal;\n",
       "  right: .2ex;\n",
       "  padding: .5ex;\n",
       "  margin: .5ex;\n",
       "  width: min-content;\n",
       "  min-width: 20ex;\n",
       "  max-width: 50ex;\n",
       "  color: var(--sklearn-color-text);\n",
       "  box-shadow: 2pt 2pt 4pt #999;\n",
       "  /* unfitted */\n",
       "  background: var(--sklearn-color-unfitted-level-0);\n",
       "  border: .5pt solid var(--sklearn-color-unfitted-level-3);\n",
       "}\n",
       "\n",
       ".sk-estimator-doc-link.fitted span {\n",
       "  /* fitted */\n",
       "  background: var(--sklearn-color-fitted-level-0);\n",
       "  border: var(--sklearn-color-fitted-level-3);\n",
       "}\n",
       "\n",
       ".sk-estimator-doc-link:hover span {\n",
       "  display: block;\n",
       "}\n",
       "\n",
       "/* \"?\"-specific style due to the `<a>` HTML tag */\n",
       "\n",
       "#sk-container-id-75 a.estimator_doc_link {\n",
       "  float: right;\n",
       "  font-size: 1rem;\n",
       "  line-height: 1em;\n",
       "  font-family: monospace;\n",
       "  background-color: var(--sklearn-color-background);\n",
       "  border-radius: 1rem;\n",
       "  height: 1rem;\n",
       "  width: 1rem;\n",
       "  text-decoration: none;\n",
       "  /* unfitted */\n",
       "  color: var(--sklearn-color-unfitted-level-1);\n",
       "  border: var(--sklearn-color-unfitted-level-1) 1pt solid;\n",
       "}\n",
       "\n",
       "#sk-container-id-75 a.estimator_doc_link.fitted {\n",
       "  /* fitted */\n",
       "  border: var(--sklearn-color-fitted-level-1) 1pt solid;\n",
       "  color: var(--sklearn-color-fitted-level-1);\n",
       "}\n",
       "\n",
       "/* On hover */\n",
       "#sk-container-id-75 a.estimator_doc_link:hover {\n",
       "  /* unfitted */\n",
       "  background-color: var(--sklearn-color-unfitted-level-3);\n",
       "  color: var(--sklearn-color-background);\n",
       "  text-decoration: none;\n",
       "}\n",
       "\n",
       "#sk-container-id-75 a.estimator_doc_link.fitted:hover {\n",
       "  /* fitted */\n",
       "  background-color: var(--sklearn-color-fitted-level-3);\n",
       "}\n",
       "</style><div id=\"sk-container-id-75\" class=\"sk-top-container\"><div class=\"sk-text-repr-fallback\"><pre>KMeans(n_clusters=4, random_state=0)</pre><b>In a Jupyter environment, please rerun this cell to show the HTML representation or trust the notebook. <br />On GitHub, the HTML representation is unable to render, please try loading this page with nbviewer.org.</b></div><div class=\"sk-container\" hidden><div class=\"sk-item\"><div class=\"sk-estimator fitted sk-toggleable\"><input class=\"sk-toggleable__control sk-hidden--visually\" id=\"sk-estimator-id-75\" type=\"checkbox\" checked><label for=\"sk-estimator-id-75\" class=\"sk-toggleable__label fitted sk-toggleable__label-arrow fitted\">&nbsp;&nbsp;KMeans<a class=\"sk-estimator-doc-link fitted\" rel=\"noreferrer\" target=\"_blank\" href=\"https://scikit-learn.org/1.4/modules/generated/sklearn.cluster.KMeans.html\">?<span>Documentation for KMeans</span></a><span class=\"sk-estimator-doc-link fitted\">i<span>Fitted</span></span></label><div class=\"sk-toggleable__content fitted\"><pre>KMeans(n_clusters=4, random_state=0)</pre></div> </div></div></div></div>"
      ],
      "text/plain": [
       "KMeans(n_clusters=4, random_state=0)"
      ]
     },
     "execution_count": 5314,
     "metadata": {},
     "output_type": "execute_result"
    }
   ],
   "source": [
    "from sklearn.cluster import KMeans\n",
    "\n",
    "kmeans = KMeans(n_clusters=4, random_state=0) \n",
    "\n",
    "kmeans.fit(X)"
   ]
  },
  {
   "cell_type": "markdown",
   "metadata": {},
   "source": [
    "## 14. Studi parameter model K-Means"
   ]
  },
  {
   "cell_type": "code",
   "execution_count": 5315,
   "metadata": {},
   "outputs": [
    {
     "data": {
      "text/plain": [
       "array([[ 8.23886607e-01,  1.13740583e-01,  5.10451951e-05,\n",
       "         8.32667268e-16,  2.45939600e-01,  1.13740610e-01],\n",
       "       [ 8.58526146e-01,  4.77206424e-03,  8.97928319e-08,\n",
       "         1.00000000e+00,  1.02108691e-02,  4.77200916e-03],\n",
       "       [ 3.28122363e-01,  5.63833988e-02,  1.20502032e-02,\n",
       "        -2.77555756e-16,  1.58557424e-01,  5.63831525e-02],\n",
       "       [ 2.61278948e-01,  6.31664039e-03,  9.44506969e-08,\n",
       "         1.00000000e+00,  1.71649557e-02,  6.31656747e-03]])"
      ]
     },
     "execution_count": 5315,
     "metadata": {},
     "output_type": "execute_result"
    }
   ],
   "source": [
    "kmeans.cluster_centers_"
   ]
  },
  {
   "cell_type": "markdown",
   "metadata": {},
   "source": [
    "- Algoritma KMeans mengelompokkan data dengan mencoba memisahkan sampel dalam N kelompok dengan variansi yang sama, meminimalkan kriteria yang disebut **Inertia**, atau Inersia jumlah kuadrat dalam klaster, atau kriteria jumlah kuadrat dalam klaster, dapat dikenali sebagai ukuran seberapa koherennya cluster secara internal.\n",
    "\n",
    "\n",
    "- Algoritma k-means membagi sekumpulan N sampel X ke dalam K cluster C yang terpisah, masing-masing dijelaskan oleh mean j dari sampel dalam cluster tersebut. Sarananya biasa disebut cluster **centroids**.\n",
    "\n",
    "\n",
    "- Algoritma K-means bertujuan untuk memilih centroid yang meminimalkan Inertia, atau jumlah kriteria kuadrat dalam cluster."
   ]
  },
  {
   "cell_type": "markdown",
   "metadata": {},
   "source": [
    "### Inertia\n",
    "\n",
    "\n",
    "- **Inertia** bukan metrik yang dinormalisasi.\n",
    "\n",
    "- Nilai Inertia yang lebih rendah berarti lebih baik dan nol adalah optimal.\n",
    "\n",
    "- Namun di ruang berdimensi sangat tinggi, jarak euclidean cenderung meningkat.\n",
    "\n",
    "- Menjalankan algoritma reduksi dimensi seperti PCA sebelum pengelompokan k-means dapat mengatasi masalah ini dan mempercepat komputasi.\n",
    "\n",
    "- Kita dapat menghitung inersia model sebagai berikut:"
   ]
  },
  {
   "cell_type": "code",
   "execution_count": 5316,
   "metadata": {},
   "outputs": [
    {
     "data": {
      "text/plain": [
       "21.622928018785505"
      ]
     },
     "execution_count": 5316,
     "metadata": {},
     "output_type": "execute_result"
    }
   ],
   "source": [
    "kmeans.inertia_"
   ]
  },
  {
   "cell_type": "markdown",
   "metadata": {},
   "source": [
    "- Semakin kecil inersia model, semakin baik kesesuaian model tersebut.\n",
    "\n",
    "- Kita dapat melihat bahwa model tersebut mempunyai inersia yang sangat tinggi. Jadi, model ini tidak cocok dengan data."
   ]
  },
  {
   "cell_type": "markdown",
   "metadata": {},
   "source": [
    "## 15. Periksa kualitas clusterisasi lemah berdasarkan model"
   ]
  },
  {
   "cell_type": "code",
   "execution_count": 5317,
   "metadata": {},
   "outputs": [
    {
     "name": "stdout",
     "output_type": "stream",
     "text": [
      "Hasil: 267 dari 385 sampel diberi label dengan benar.\n"
     ]
    }
   ],
   "source": [
    "labels = kmeans.labels_\n",
    "\n",
    "# Periksa berapa banyak sampel yang diberi label dengan benar\n",
    "correct_labels = sum(y == labels)\n",
    "\n",
    "print(\"Hasil: %d dari %d sampel diberi label dengan benar.\" % (correct_labels, y.size))"
   ]
  },
  {
   "cell_type": "code",
   "execution_count": 5318,
   "metadata": {},
   "outputs": [
    {
     "name": "stdout",
     "output_type": "stream",
     "text": [
      "Skor akurasi: 0.69\n"
     ]
    }
   ],
   "source": [
    "print('Skor akurasi: {0:0.2f}'.format(correct_labels/float(y.size)))"
   ]
  },
  {
   "cell_type": "markdown",
   "metadata": {},
   "source": [
    "Kita telah mencapai akurasi klasifikasi yang lemah sebesar 68% dengan model unsupervised model."
   ]
  },
  {
   "cell_type": "markdown",
   "metadata": {},
   "source": [
    "## 16.Gunakan metode elbow untuk menemukan jumlah cluster yang optimal"
   ]
  },
  {
   "cell_type": "code",
   "execution_count": 5319,
   "metadata": {},
   "outputs": [
    {
     "data": {
      "image/png": "[encoded data removed]",
      "text/plain": [
       "<Figure size 640x480 with 1 Axes>"
      ]
     },
     "metadata": {},
     "output_type": "display_data"
    }
   ],
   "source": [
    "from sklearn.cluster import KMeans\n",
    "cs = []\n",
    "for i in range(1, 10):\n",
    "    kmeans = KMeans(n_clusters = i, init = 'k-means++', max_iter = 300, n_init = 10, random_state = 0)\n",
    "    kmeans.fit(X)\n",
    "    cs.append(kmeans.inertia_)\n",
    "plt.plot(range(1, 10), cs)\n",
    "plt.title('The Elbow Method')\n",
    "plt.xlabel('Number of clusters')\n",
    "plt.ylabel('CS')\n",
    "plt.show()\n"
   ]
  },
  {
   "cell_type": "markdown",
   "metadata": {},
   "source": [
    "- Berdasarkan plot di atas terlihat adanya kekusutan pada k=4.\n",
    "\n",
    "- Oleh karena itu k=4 dapat dianggap sebagai jumlah cluster yang baik untuk mengelompokkan data ini.\n",
    "\n",
    "- Namun, kita telah melihat bahwa saya telah mencapai akurasi klasifikasi yang lemah sebesar 68% dengan k=4.\n",
    "\n",
    "- Saya akan menulis kode yang diperlukan dengan k=4."
   ]
  },
  {
   "cell_type": "code",
   "execution_count": 5320,
   "metadata": {},
   "outputs": [
    {
     "name": "stdout",
     "output_type": "stream",
     "text": [
      "Hasil: 267 dari 385 sampel diberi label dengan benar.\n",
      "Skor akurasi: 0.69\n"
     ]
    }
   ],
   "source": [
    "from sklearn.cluster import KMeans\n",
    "\n",
    "kmeans = KMeans(n_clusters=4,random_state=0)\n",
    "\n",
    "kmeans.fit(X)\n",
    "\n",
    "labels = kmeans.labels_\n",
    "\n",
    "# periksa berapa banyak sampel yang diberi label dengan benar\n",
    "\n",
    "correct_labels = sum(y == labels)\n",
    "\n",
    "print(\"Hasil: %d dari %d sampel diberi label dengan benar.\" % (correct_labels, y.size))\n",
    "\n",
    "print('Skor akurasi: {0:0.2f}'.format(correct_labels/float(y.size)))"
   ]
  },
  {
   "cell_type": "markdown",
   "metadata": {},
   "source": [
    "Jadi, model klasifikasi tanpa pengawasan kami yang lemah mencapai akurasi klasifikasi yang cukup lemah sebesar 68%."
   ]
  },
  {
   "cell_type": "markdown",
   "metadata": {},
   "source": [
    "Saya akan memeriksa keakuratan model dengan jumlah cluster yang berbeda."
   ]
  },
  {
   "cell_type": "markdown",
   "metadata": {},
   "source": [
    "## 17. K-Means dengan cluster yang berbeda"
   ]
  },
  {
   "cell_type": "markdown",
   "metadata": {},
   "source": [
    "### K-Means model with 3 clusters"
   ]
  },
  {
   "cell_type": "code",
   "execution_count": 5321,
   "metadata": {},
   "outputs": [
    {
     "name": "stdout",
     "output_type": "stream",
     "text": [
      "Hasil: 267 dari 385 sampel diberi label dengan benar.\n",
      "Skor akurasi: 0.69\n"
     ]
    }
   ],
   "source": [
    "kmeans = KMeans(n_clusters=3, random_state=0)\n",
    "\n",
    "kmeans.fit(X)\n",
    "\n",
    "# periksa berapa banyak sampel yang diberi label dengan benar\n",
    "label = kmeans.labels_\n",
    "\n",
    "correct_labels = sum(y == labels)\n",
    "print(\"Hasil: %d dari %d sampel diberi label dengan benar.\" % (correct_labels, y.size))\n",
    "print('Skor akurasi: {0:0.2f}'.format(correct_labels/float(y.size)))"
   ]
  },
  {
   "cell_type": "markdown",
   "metadata": {},
   "source": [
    "### K-Means model dengan 2 clusters"
   ]
  },
  {
   "cell_type": "code",
   "execution_count": 5322,
   "metadata": {},
   "outputs": [
    {
     "name": "stdout",
     "output_type": "stream",
     "text": [
      "Hasil: 385 dari 385 sampel diberi label dengan benar.\n",
      "Skor akurasi: 1.00\n"
     ]
    }
   ],
   "source": [
    "kmeans = KMeans(n_clusters=2, random_state=0)\n",
    "\n",
    "kmeans.fit(X)\n",
    "\n",
    "# periksa berapa banyak sampel yang diberi label dengan benar\n",
    "labels = kmeans.labels_\n",
    "\n",
    "correct_labels = sum(y == labels)\n",
    "print(\"Hasil: %d dari %d sampel diberi label dengan benar.\" % (correct_labels, y.size))\n",
    "print('Skor akurasi: {0:0.2f}'.format(correct_labels/float(y.size)))"
   ]
  },
  {
   "cell_type": "code",
   "execution_count": 5323,
   "metadata": {},
   "outputs": [
    {
     "data": {
      "text/plain": [
       "array([[6.58631859e-01, 9.46215217e-02, 4.05076454e-03, 4.99600361e-16,\n",
       "        2.16812208e-01, 9.46214578e-02],\n",
       "       [7.04822823e-01, 5.16956546e-03, 9.09915472e-08, 1.00000000e+00,\n",
       "        1.20005237e-02, 5.16950578e-03]])"
      ]
     },
     "execution_count": 5323,
     "metadata": {},
     "output_type": "execute_result"
    }
   ],
   "source": [
    "kmeans.cluster_centers_"
   ]
  },
  {
   "cell_type": "code",
   "execution_count": 5324,
   "metadata": {},
   "outputs": [
    {
     "data": {
      "text/plain": [
       "45.29049408553534"
      ]
     },
     "execution_count": 5324,
     "metadata": {},
     "output_type": "execute_result"
    }
   ],
   "source": [
    "kmeans.inertia_"
   ]
  },
  {
   "cell_type": "code",
   "execution_count": 5325,
   "metadata": {},
   "outputs": [
    {
     "data": {
      "text/html": [
       "<div>\n",
       "<style scoped>\n",
       "    .dataframe tbody tr th:only-of-type {\n",
       "        vertical-align: middle;\n",
       "    }\n",
       "\n",
       "    .dataframe tbody tr th {\n",
       "        vertical-align: top;\n",
       "    }\n",
       "\n",
       "    .dataframe thead th {\n",
       "        text-align: right;\n",
       "    }\n",
       "</style>\n",
       "<table border=\"1\" class=\"dataframe\">\n",
       "  <thead>\n",
       "    <tr style=\"text-align: right;\">\n",
       "      <th></th>\n",
       "      <th>days_since_registration</th>\n",
       "      <th>total_count_transaction</th>\n",
       "      <th>total_amount_transaction</th>\n",
       "      <th>client_category</th>\n",
       "      <th>total_varian_product</th>\n",
       "      <th>total_varian_product_transaction</th>\n",
       "      <th>cluster</th>\n",
       "    </tr>\n",
       "  </thead>\n",
       "  <tbody>\n",
       "    <tr>\n",
       "      <th>0</th>\n",
       "      <td>1499</td>\n",
       "      <td>1070</td>\n",
       "      <td>85625901</td>\n",
       "      <td>1</td>\n",
       "      <td>275</td>\n",
       "      <td>1070</td>\n",
       "      <td>1</td>\n",
       "    </tr>\n",
       "    <tr>\n",
       "      <th>1</th>\n",
       "      <td>1499</td>\n",
       "      <td>417587</td>\n",
       "      <td>5945445071</td>\n",
       "      <td>0</td>\n",
       "      <td>1160</td>\n",
       "      <td>417587</td>\n",
       "      <td>0</td>\n",
       "    </tr>\n",
       "    <tr>\n",
       "      <th>2</th>\n",
       "      <td>1477</td>\n",
       "      <td>15773</td>\n",
       "      <td>1114582043</td>\n",
       "      <td>0</td>\n",
       "      <td>1086</td>\n",
       "      <td>15773</td>\n",
       "      <td>0</td>\n",
       "    </tr>\n",
       "    <tr>\n",
       "      <th>3</th>\n",
       "      <td>1472</td>\n",
       "      <td>57608</td>\n",
       "      <td>10788938918</td>\n",
       "      <td>0</td>\n",
       "      <td>3456</td>\n",
       "      <td>57608</td>\n",
       "      <td>0</td>\n",
       "    </tr>\n",
       "    <tr>\n",
       "      <th>4</th>\n",
       "      <td>1470</td>\n",
       "      <td>460382</td>\n",
       "      <td>24291902672</td>\n",
       "      <td>0</td>\n",
       "      <td>4793</td>\n",
       "      <td>460382</td>\n",
       "      <td>0</td>\n",
       "    </tr>\n",
       "  </tbody>\n",
       "</table>\n",
       "</div>"
      ],
      "text/plain": [
       "   days_since_registration  total_count_transaction  total_amount_transaction  \\\n",
       "0                     1499                     1070                  85625901   \n",
       "1                     1499                   417587                5945445071   \n",
       "2                     1477                    15773                1114582043   \n",
       "3                     1472                    57608               10788938918   \n",
       "4                     1470                   460382               24291902672   \n",
       "\n",
       "   client_category  total_varian_product  total_varian_product_transaction  \\\n",
       "0                1                   275                              1070   \n",
       "1                0                  1160                            417587   \n",
       "2                0                  1086                             15773   \n",
       "3                0                  3456                             57608   \n",
       "4                0                  4793                            460382   \n",
       "\n",
       "   cluster  \n",
       "0        1  \n",
       "1        0  \n",
       "2        0  \n",
       "3        0  \n",
       "4        0  "
      ]
     },
     "execution_count": 5325,
     "metadata": {},
     "output_type": "execute_result"
    }
   ],
   "source": [
    "y_kmeans = kmeans.fit_predict(X)\n",
    "df['cluster'] = pd.DataFrame(y_kmeans)\n",
    "df.head()\n"
   ]
  },
  {
   "cell_type": "code",
   "execution_count": 5326,
   "metadata": {},
   "outputs": [
    {
     "data": {
      "text/plain": [
       "array([1, 0, 0, 0, 0, 1, 0, 0, 0, 1, 0, 1, 0, 0, 0, 0, 1, 1, 0, 0, 0, 0,\n",
       "       0, 1, 1, 1, 0, 0, 1, 1, 1, 0, 0, 0, 0, 1, 0, 1, 1, 1, 1, 0, 1, 0,\n",
       "       1, 1, 1, 1, 0, 0, 0, 0, 0, 0, 0, 1, 1, 0, 1, 1, 0, 0, 1, 0, 1, 0,\n",
       "       0, 0, 0, 0, 0, 0, 0, 0, 0, 0, 0, 1, 0, 1, 0, 0, 0, 0, 1, 0, 0, 0,\n",
       "       1, 1, 1, 1, 1, 1, 0, 1, 1, 0, 1, 0, 1, 1, 0, 0, 1, 1, 1, 1, 1, 0,\n",
       "       0, 0, 1, 1, 1, 0, 0, 1, 0, 1, 0, 0, 0, 0, 1, 1, 1, 0, 1, 0, 1, 1,\n",
       "       1, 1, 0, 0, 1, 0, 0, 1, 1, 0, 1, 0, 1, 0, 0, 0, 1, 1, 1, 1, 1, 0,\n",
       "       0, 0, 0, 0, 0, 0, 0, 0, 0, 1, 1, 0, 0, 1, 0, 1, 0, 1, 1, 1, 0, 0,\n",
       "       0, 1, 0, 1, 1, 1, 1, 1, 0, 0, 0, 0, 0, 0, 1, 1, 0, 0, 0, 1, 0, 1,\n",
       "       0, 0, 0, 0, 0, 0, 0, 1, 0, 0, 0, 0, 1, 0, 0, 0, 0, 0, 0, 0, 0, 0,\n",
       "       0, 0, 0, 0, 0, 0, 1, 0, 0, 0, 0, 0, 1, 0, 1, 0, 1, 0, 1, 0, 0, 0,\n",
       "       0, 0, 1, 0, 0, 0, 0, 0, 0, 0, 1, 1, 0, 0, 0, 0, 0, 1, 0, 0, 0, 0,\n",
       "       1, 0, 0, 0, 1, 0, 0, 1, 1, 0, 1, 0, 0, 1, 1, 0, 0, 0, 1, 0, 0, 0,\n",
       "       0, 1, 0, 0, 1, 0, 1, 0, 0, 0, 1, 1, 0, 0, 0, 0, 0, 0, 0, 0, 0, 0,\n",
       "       1, 0, 1, 0, 0, 1, 0, 0, 0, 0, 1, 1, 0, 0, 1, 1, 0, 0, 0, 0, 0, 0,\n",
       "       0, 0, 0, 0, 0, 0, 0, 0, 0, 0, 0, 1, 0, 0, 0, 0, 0, 0, 0, 1, 0, 0,\n",
       "       0, 0, 0, 0, 0, 1, 0, 0, 0, 0, 1, 0, 0, 1, 0, 0, 0, 0, 0, 1, 1, 1,\n",
       "       1, 1, 0, 1, 1, 1, 1, 1, 1, 1, 1], dtype=int32)"
      ]
     },
     "execution_count": 5326,
     "metadata": {},
     "output_type": "execute_result"
    }
   ],
   "source": [
    "kmeans.predict(X)"
   ]
  },
  {
   "cell_type": "markdown",
   "metadata": {},
   "source": [
    "Kita telah mencapai akurasi yang sangat tinggi yaitu 100% dengan k=4."
   ]
  },
  {
   "cell_type": "markdown",
   "metadata": {},
   "source": [
    "## 18. Hasil dan kesimpulan\n",
    "\n",
    "\n",
    "1. Dalam proyek ini, saya telah menerapkan teknik pengelompokan unsupervised paling populer yang disebut **K-Means Clustering**.\n",
    "\n",
    "2. Saya telah menerapkan metode elbow dan menemukan bahwa k=4 (k adalah jumlah cluster) dapat dianggap sebagai jumlah cluster yang baik untuk mengelompokkan data ini.\n",
    "\n",
    "3. Saya menemukan bahwa model tersebut memiliki inersia yang sangat tinggi yaitu 34.500341311140915 Jadi, model ini dapat dianggap sudah baik.\n",
    "\n",
    "4. Saya telah mencapai akurasi klasifikasi yang lemah sebesar 68% dengan k=2 dengan model unsupervised.\n",
    "\n",
    "5. Jadi, saya telah mengubah nilai k dan menemukan akurasi klasifikasi yang relatif lebih tinggi yaitu 100% dengan k=4.\n",
    "\n",
    "6. Oleh karena itu, kita dapat menyimpulkan bahwa k=4 adalah jumlah cluster yang optimal."
   ]
  }
 ],
 "metadata": {
  "kernelspec": {
   "display_name": "Python 3",
   "language": "python",
   "name": "python3"
  },
  "language_info": {
   "codemirror_mode": {
    "name": "ipython",
    "version": 3
   },
   "file_extension": ".py",
   "mimetype": "text/x-python",
   "name": "python",
   "nbconvert_exporter": "python",
   "pygments_lexer": "ipython3",
   "version": "3.11.6"
  }
 },
 "nbformat": 4,
 "nbformat_minor": 2
}
